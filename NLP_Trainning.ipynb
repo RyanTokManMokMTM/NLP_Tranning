{
  "nbformat": 4,
  "nbformat_minor": 0,
  "metadata": {
    "colab": {
      "name": "NLP-Trainning.ipynb",
      "provenance": [],
      "collapsed_sections": [],
      "toc_visible": true,
      "authorship_tag": "ABX9TyPdPdl5aUuae5kfhE1ckUZt",
      "include_colab_link": true
    },
    "kernelspec": {
      "name": "python3",
      "display_name": "Python 3"
    },
    "language_info": {
      "name": "python"
    }
  },
  "cells": [
    {
      "cell_type": "markdown",
      "metadata": {
        "id": "view-in-github",
        "colab_type": "text"
      },
      "source": [
        "<a href=\"https://colab.research.google.com/github/RyanTokManMokMTM/NLP_Tranning/blob/master/NLP_Trainning.ipynb\" target=\"_parent\"><img src=\"https://colab.research.google.com/assets/colab-badge.svg\" alt=\"Open In Colab\"/></a>"
      ]
    },
    {
      "cell_type": "code",
      "metadata": {
        "colab": {
          "base_uri": "https://localhost:8080/"
        },
        "id": "5foREiXrgkeD",
        "outputId": "58c43108-c3a7-4ba8-edf6-c380e3658f1a"
      },
      "source": [
        "!wget https://github.com/fxsjy/jieba.git"
      ],
      "execution_count": null,
      "outputs": [
        {
          "output_type": "stream",
          "text": [
            "--2021-07-21 08:28:40--  https://github.com/fxsjy/jieba.git\n",
            "Resolving github.com (github.com)... 140.82.113.3\n",
            "Connecting to github.com (github.com)|140.82.113.3|:443... connected.\n",
            "HTTP request sent, awaiting response... 301 Moved Permanently\n",
            "Location: https://github.com/fxsjy/jieba [following]\n",
            "--2021-07-21 08:28:40--  https://github.com/fxsjy/jieba\n",
            "Reusing existing connection to github.com:443.\n",
            "HTTP request sent, awaiting response... 200 OK\n",
            "Length: unspecified [text/html]\n",
            "Saving to: ‘jieba.git’\n",
            "\n",
            "jieba.git               [ <=>                ] 276.59K  --.-KB/s    in 0.1s    \n",
            "\n",
            "2021-07-21 08:28:40 (2.67 MB/s) - ‘jieba.git’ saved [283227]\n",
            "\n"
          ],
          "name": "stdout"
        }
      ]
    },
    {
      "cell_type": "code",
      "metadata": {
        "colab": {
          "base_uri": "https://localhost:8080/"
        },
        "id": "06DKyIxwg8fT",
        "outputId": "919d713b-c668-4ad8-af46-71acc7742c08"
      },
      "source": [
        "!git clone https://github.com/fxsjy/jieba.git"
      ],
      "execution_count": null,
      "outputs": [
        {
          "output_type": "stream",
          "text": [
            "Cloning into 'jieba'...\n",
            "remote: Enumerating objects: 2513, done.\u001b[K\n",
            "remote: Total 2513 (delta 0), reused 0 (delta 0), pack-reused 2513\u001b[K\n",
            "Receiving objects: 100% (2513/2513), 54.72 MiB | 21.94 MiB/s, done.\n",
            "Resolving deltas: 100% (1443/1443), done.\n"
          ],
          "name": "stdout"
        }
      ]
    },
    {
      "cell_type": "code",
      "metadata": {
        "id": "m6g0ZbtXhMMD"
      },
      "source": [
        "!cd jieba"
      ],
      "execution_count": null,
      "outputs": []
    },
    {
      "cell_type": "code",
      "metadata": {
        "colab": {
          "base_uri": "https://localhost:8080/"
        },
        "id": "AOI7dUEohQby",
        "outputId": "aa06c973-2da0-4379-c1c9-bea47619a7ce"
      },
      "source": [
        "!cd jieba/\n",
        "!ls"
      ],
      "execution_count": null,
      "outputs": [
        {
          "output_type": "stream",
          "text": [
            "customDict.txt\tjieba  jieba.git  sample_data\n"
          ],
          "name": "stdout"
        }
      ]
    },
    {
      "cell_type": "code",
      "metadata": {
        "colab": {
          "base_uri": "https://localhost:8080/"
        },
        "id": "kasv92VMhXOu",
        "outputId": "032ef437-d780-40cf-9217-785e851aa578"
      },
      "source": [
        "pip install paddlepaddle-tiny==1.6.1"
      ],
      "execution_count": null,
      "outputs": [
        {
          "output_type": "stream",
          "text": [
            "Collecting paddlepaddle-tiny==1.6.1\n",
            "  Downloading paddlepaddle_tiny-1.6.1-cp37-cp37m-manylinux1_x86_64.whl (39.8 MB)\n",
            "\u001b[K     |████████████████████████████████| 39.8 MB 23 kB/s \n",
            "\u001b[?25hCollecting objgraph\n",
            "  Downloading objgraph-3.5.0-py2.py3-none-any.whl (17 kB)\n",
            "Requirement already satisfied: requests>=2.0.0 in /usr/local/lib/python3.7/dist-packages (from paddlepaddle-tiny==1.6.1) (2.23.0)\n",
            "Requirement already satisfied: numpy>=1.12 in /usr/local/lib/python3.7/dist-packages (from paddlepaddle-tiny==1.6.1) (1.19.5)\n",
            "Requirement already satisfied: protobuf>=3.1.0 in /usr/local/lib/python3.7/dist-packages (from paddlepaddle-tiny==1.6.1) (3.17.3)\n",
            "Requirement already satisfied: decorator in /usr/local/lib/python3.7/dist-packages (from paddlepaddle-tiny==1.6.1) (4.4.2)\n",
            "Requirement already satisfied: six in /usr/local/lib/python3.7/dist-packages (from paddlepaddle-tiny==1.6.1) (1.15.0)\n",
            "Requirement already satisfied: graphviz in /usr/local/lib/python3.7/dist-packages (from paddlepaddle-tiny==1.6.1) (0.10.1)\n",
            "Requirement already satisfied: chardet<4,>=3.0.2 in /usr/local/lib/python3.7/dist-packages (from requests>=2.0.0->paddlepaddle-tiny==1.6.1) (3.0.4)\n",
            "Requirement already satisfied: certifi>=2017.4.17 in /usr/local/lib/python3.7/dist-packages (from requests>=2.0.0->paddlepaddle-tiny==1.6.1) (2021.5.30)\n",
            "Requirement already satisfied: idna<3,>=2.5 in /usr/local/lib/python3.7/dist-packages (from requests>=2.0.0->paddlepaddle-tiny==1.6.1) (2.10)\n",
            "Requirement already satisfied: urllib3!=1.25.0,!=1.25.1,<1.26,>=1.21.1 in /usr/local/lib/python3.7/dist-packages (from requests>=2.0.0->paddlepaddle-tiny==1.6.1) (1.24.3)\n",
            "Installing collected packages: objgraph, paddlepaddle-tiny\n",
            "Successfully installed objgraph-3.5.0 paddlepaddle-tiny-1.6.1\n"
          ],
          "name": "stdout"
        }
      ]
    },
    {
      "cell_type": "code",
      "metadata": {
        "id": "2uDze84ZhqJZ"
      },
      "source": [
        "!cd jieba\n"
      ],
      "execution_count": null,
      "outputs": []
    },
    {
      "cell_type": "code",
      "metadata": {
        "colab": {
          "base_uri": "https://localhost:8080/"
        },
        "id": "EYMQNgNxh4Si",
        "outputId": "8891f25a-f2a4-4626-e4d4-a71999c22555"
      },
      "source": [
        "%cd jieba/"
      ],
      "execution_count": null,
      "outputs": [
        {
          "output_type": "stream",
          "text": [
            "/content/jieba\n"
          ],
          "name": "stdout"
        }
      ]
    },
    {
      "cell_type": "code",
      "metadata": {
        "colab": {
          "base_uri": "https://localhost:8080/"
        },
        "id": "W8nHdKZJiC9Y",
        "outputId": "4b020fab-64de-4c5d-9218-3db9d53a5bf2"
      },
      "source": [
        "%ls"
      ],
      "execution_count": null,
      "outputs": [
        {
          "output_type": "stream",
          "text": [
            "Changelog    \u001b[0m\u001b[01;34mjieba\u001b[0m/   MANIFEST.in  setup.py\n",
            "\u001b[01;34mextra_dict\u001b[0m/  LICENSE  README.md    \u001b[01;34mtest\u001b[0m/\n"
          ],
          "name": "stdout"
        }
      ]
    },
    {
      "cell_type": "code",
      "metadata": {
        "colab": {
          "base_uri": "https://localhost:8080/"
        },
        "id": "WP-JiO6diC3H",
        "outputId": "ff0725e2-a439-4b23-db4b-adebb3196568"
      },
      "source": [
        "!python setup.py install"
      ],
      "execution_count": null,
      "outputs": [
        {
          "output_type": "stream",
          "text": [
            "running install\n",
            "running build\n",
            "running build_py\n",
            "creating build\n",
            "creating build/lib\n",
            "creating build/lib/jieba\n",
            "copying jieba/_compat.py -> build/lib/jieba\n",
            "copying jieba/__main__.py -> build/lib/jieba\n",
            "copying jieba/__init__.py -> build/lib/jieba\n",
            "copying jieba/dict.txt -> build/lib/jieba\n",
            "creating build/lib/jieba/finalseg\n",
            "copying jieba/finalseg/prob_emit.p -> build/lib/jieba/finalseg\n",
            "copying jieba/finalseg/prob_emit.py -> build/lib/jieba/finalseg\n",
            "copying jieba/finalseg/prob_trans.p -> build/lib/jieba/finalseg\n",
            "copying jieba/finalseg/prob_start.py -> build/lib/jieba/finalseg\n",
            "copying jieba/finalseg/prob_trans.py -> build/lib/jieba/finalseg\n",
            "copying jieba/finalseg/__init__.py -> build/lib/jieba/finalseg\n",
            "copying jieba/finalseg/prob_start.p -> build/lib/jieba/finalseg\n",
            "creating build/lib/jieba/analyse\n",
            "copying jieba/analyse/idf.txt -> build/lib/jieba/analyse\n",
            "copying jieba/analyse/analyzer.py -> build/lib/jieba/analyse\n",
            "copying jieba/analyse/__init__.py -> build/lib/jieba/analyse\n",
            "copying jieba/analyse/textrank.py -> build/lib/jieba/analyse\n",
            "copying jieba/analyse/tfidf.py -> build/lib/jieba/analyse\n",
            "creating build/lib/jieba/posseg\n",
            "copying jieba/posseg/prob_emit.p -> build/lib/jieba/posseg\n",
            "copying jieba/posseg/prob_emit.py -> build/lib/jieba/posseg\n",
            "copying jieba/posseg/prob_trans.p -> build/lib/jieba/posseg\n",
            "copying jieba/posseg/char_state_tab.p -> build/lib/jieba/posseg\n",
            "copying jieba/posseg/prob_start.py -> build/lib/jieba/posseg\n",
            "copying jieba/posseg/prob_trans.py -> build/lib/jieba/posseg\n",
            "copying jieba/posseg/__init__.py -> build/lib/jieba/posseg\n",
            "copying jieba/posseg/char_state_tab.py -> build/lib/jieba/posseg\n",
            "copying jieba/posseg/prob_start.p -> build/lib/jieba/posseg\n",
            "copying jieba/posseg/viterbi.py -> build/lib/jieba/posseg\n",
            "creating build/lib/jieba/lac_small\n",
            "copying jieba/lac_small/reader_small.py -> build/lib/jieba/lac_small\n",
            "copying jieba/lac_small/utils.py -> build/lib/jieba/lac_small\n",
            "copying jieba/lac_small/predict.py -> build/lib/jieba/lac_small\n",
            "copying jieba/lac_small/nets.py -> build/lib/jieba/lac_small\n",
            "copying jieba/lac_small/__init__.py -> build/lib/jieba/lac_small\n",
            "copying jieba/lac_small/creator.py -> build/lib/jieba/lac_small\n",
            "copying jieba/lac_small/word.dic -> build/lib/jieba/lac_small\n",
            "copying jieba/lac_small/tag.dic -> build/lib/jieba/lac_small\n",
            "creating build/lib/jieba/lac_small/model_baseline\n",
            "copying jieba/lac_small/model_baseline/gru_1.b_0 -> build/lib/jieba/lac_small/model_baseline\n",
            "copying jieba/lac_small/model_baseline/gru_1.w_0 -> build/lib/jieba/lac_small/model_baseline\n",
            "copying jieba/lac_small/model_baseline/fc_3.w_0 -> build/lib/jieba/lac_small/model_baseline\n",
            "copying jieba/lac_small/model_baseline/crfw -> build/lib/jieba/lac_small/model_baseline\n",
            "copying jieba/lac_small/model_baseline/fc_1.w_0 -> build/lib/jieba/lac_small/model_baseline\n",
            "copying jieba/lac_small/model_baseline/gru_3.w_0 -> build/lib/jieba/lac_small/model_baseline\n",
            "copying jieba/lac_small/model_baseline/gru_3.b_0 -> build/lib/jieba/lac_small/model_baseline\n",
            "copying jieba/lac_small/model_baseline/fc_2.w_0 -> build/lib/jieba/lac_small/model_baseline\n",
            "copying jieba/lac_small/model_baseline/fc_3.b_0 -> build/lib/jieba/lac_small/model_baseline\n",
            "copying jieba/lac_small/model_baseline/gru_0.w_0 -> build/lib/jieba/lac_small/model_baseline\n",
            "copying jieba/lac_small/model_baseline/gru_0.b_0 -> build/lib/jieba/lac_small/model_baseline\n",
            "copying jieba/lac_small/model_baseline/word_emb -> build/lib/jieba/lac_small/model_baseline\n",
            "copying jieba/lac_small/model_baseline/gru_2.b_0 -> build/lib/jieba/lac_small/model_baseline\n",
            "copying jieba/lac_small/model_baseline/fc_0.w_0 -> build/lib/jieba/lac_small/model_baseline\n",
            "copying jieba/lac_small/model_baseline/fc_1.b_0 -> build/lib/jieba/lac_small/model_baseline\n",
            "copying jieba/lac_small/model_baseline/fc_2.b_0 -> build/lib/jieba/lac_small/model_baseline\n",
            "copying jieba/lac_small/model_baseline/fc_4.w_0 -> build/lib/jieba/lac_small/model_baseline\n",
            "copying jieba/lac_small/model_baseline/fc_0.b_0 -> build/lib/jieba/lac_small/model_baseline\n",
            "copying jieba/lac_small/model_baseline/fc_4.b_0 -> build/lib/jieba/lac_small/model_baseline\n",
            "copying jieba/lac_small/model_baseline/gru_2.w_0 -> build/lib/jieba/lac_small/model_baseline\n",
            "running install_lib\n",
            "copying build/lib/jieba/_compat.py -> /usr/local/lib/python3.7/dist-packages/jieba\n",
            "copying build/lib/jieba/__main__.py -> /usr/local/lib/python3.7/dist-packages/jieba\n",
            "copying build/lib/jieba/finalseg/prob_emit.p -> /usr/local/lib/python3.7/dist-packages/jieba/finalseg\n",
            "copying build/lib/jieba/finalseg/prob_emit.py -> /usr/local/lib/python3.7/dist-packages/jieba/finalseg\n",
            "copying build/lib/jieba/finalseg/prob_trans.p -> /usr/local/lib/python3.7/dist-packages/jieba/finalseg\n",
            "copying build/lib/jieba/finalseg/prob_start.py -> /usr/local/lib/python3.7/dist-packages/jieba/finalseg\n",
            "copying build/lib/jieba/finalseg/prob_trans.py -> /usr/local/lib/python3.7/dist-packages/jieba/finalseg\n",
            "copying build/lib/jieba/finalseg/__init__.py -> /usr/local/lib/python3.7/dist-packages/jieba/finalseg\n",
            "copying build/lib/jieba/finalseg/prob_start.p -> /usr/local/lib/python3.7/dist-packages/jieba/finalseg\n",
            "copying build/lib/jieba/analyse/idf.txt -> /usr/local/lib/python3.7/dist-packages/jieba/analyse\n",
            "copying build/lib/jieba/analyse/analyzer.py -> /usr/local/lib/python3.7/dist-packages/jieba/analyse\n",
            "copying build/lib/jieba/analyse/__init__.py -> /usr/local/lib/python3.7/dist-packages/jieba/analyse\n",
            "copying build/lib/jieba/analyse/textrank.py -> /usr/local/lib/python3.7/dist-packages/jieba/analyse\n",
            "copying build/lib/jieba/analyse/tfidf.py -> /usr/local/lib/python3.7/dist-packages/jieba/analyse\n",
            "copying build/lib/jieba/posseg/prob_emit.p -> /usr/local/lib/python3.7/dist-packages/jieba/posseg\n",
            "copying build/lib/jieba/posseg/prob_emit.py -> /usr/local/lib/python3.7/dist-packages/jieba/posseg\n",
            "copying build/lib/jieba/posseg/prob_trans.p -> /usr/local/lib/python3.7/dist-packages/jieba/posseg\n",
            "copying build/lib/jieba/posseg/char_state_tab.p -> /usr/local/lib/python3.7/dist-packages/jieba/posseg\n",
            "copying build/lib/jieba/posseg/prob_start.py -> /usr/local/lib/python3.7/dist-packages/jieba/posseg\n",
            "copying build/lib/jieba/posseg/prob_trans.py -> /usr/local/lib/python3.7/dist-packages/jieba/posseg\n",
            "copying build/lib/jieba/posseg/__init__.py -> /usr/local/lib/python3.7/dist-packages/jieba/posseg\n",
            "copying build/lib/jieba/posseg/char_state_tab.py -> /usr/local/lib/python3.7/dist-packages/jieba/posseg\n",
            "copying build/lib/jieba/posseg/prob_start.p -> /usr/local/lib/python3.7/dist-packages/jieba/posseg\n",
            "copying build/lib/jieba/posseg/viterbi.py -> /usr/local/lib/python3.7/dist-packages/jieba/posseg\n",
            "copying build/lib/jieba/lac_small/reader_small.py -> /usr/local/lib/python3.7/dist-packages/jieba/lac_small\n",
            "copying build/lib/jieba/lac_small/utils.py -> /usr/local/lib/python3.7/dist-packages/jieba/lac_small\n",
            "copying build/lib/jieba/lac_small/word.dic -> /usr/local/lib/python3.7/dist-packages/jieba/lac_small\n",
            "copying build/lib/jieba/lac_small/model_baseline/gru_1.b_0 -> /usr/local/lib/python3.7/dist-packages/jieba/lac_small/model_baseline\n",
            "copying build/lib/jieba/lac_small/model_baseline/gru_1.w_0 -> /usr/local/lib/python3.7/dist-packages/jieba/lac_small/model_baseline\n",
            "copying build/lib/jieba/lac_small/model_baseline/fc_3.w_0 -> /usr/local/lib/python3.7/dist-packages/jieba/lac_small/model_baseline\n",
            "copying build/lib/jieba/lac_small/model_baseline/crfw -> /usr/local/lib/python3.7/dist-packages/jieba/lac_small/model_baseline\n",
            "copying build/lib/jieba/lac_small/model_baseline/fc_1.w_0 -> /usr/local/lib/python3.7/dist-packages/jieba/lac_small/model_baseline\n",
            "copying build/lib/jieba/lac_small/model_baseline/gru_3.w_0 -> /usr/local/lib/python3.7/dist-packages/jieba/lac_small/model_baseline\n",
            "copying build/lib/jieba/lac_small/model_baseline/gru_3.b_0 -> /usr/local/lib/python3.7/dist-packages/jieba/lac_small/model_baseline\n",
            "copying build/lib/jieba/lac_small/model_baseline/fc_2.w_0 -> /usr/local/lib/python3.7/dist-packages/jieba/lac_small/model_baseline\n",
            "copying build/lib/jieba/lac_small/model_baseline/fc_3.b_0 -> /usr/local/lib/python3.7/dist-packages/jieba/lac_small/model_baseline\n",
            "copying build/lib/jieba/lac_small/model_baseline/gru_0.w_0 -> /usr/local/lib/python3.7/dist-packages/jieba/lac_small/model_baseline\n",
            "copying build/lib/jieba/lac_small/model_baseline/gru_0.b_0 -> /usr/local/lib/python3.7/dist-packages/jieba/lac_small/model_baseline\n",
            "copying build/lib/jieba/lac_small/model_baseline/word_emb -> /usr/local/lib/python3.7/dist-packages/jieba/lac_small/model_baseline\n",
            "copying build/lib/jieba/lac_small/model_baseline/gru_2.b_0 -> /usr/local/lib/python3.7/dist-packages/jieba/lac_small/model_baseline\n",
            "copying build/lib/jieba/lac_small/model_baseline/fc_0.w_0 -> /usr/local/lib/python3.7/dist-packages/jieba/lac_small/model_baseline\n",
            "copying build/lib/jieba/lac_small/model_baseline/fc_1.b_0 -> /usr/local/lib/python3.7/dist-packages/jieba/lac_small/model_baseline\n",
            "copying build/lib/jieba/lac_small/model_baseline/fc_2.b_0 -> /usr/local/lib/python3.7/dist-packages/jieba/lac_small/model_baseline\n",
            "copying build/lib/jieba/lac_small/model_baseline/fc_4.w_0 -> /usr/local/lib/python3.7/dist-packages/jieba/lac_small/model_baseline\n",
            "copying build/lib/jieba/lac_small/model_baseline/fc_0.b_0 -> /usr/local/lib/python3.7/dist-packages/jieba/lac_small/model_baseline\n",
            "copying build/lib/jieba/lac_small/model_baseline/fc_4.b_0 -> /usr/local/lib/python3.7/dist-packages/jieba/lac_small/model_baseline\n",
            "copying build/lib/jieba/lac_small/model_baseline/gru_2.w_0 -> /usr/local/lib/python3.7/dist-packages/jieba/lac_small/model_baseline\n",
            "copying build/lib/jieba/lac_small/predict.py -> /usr/local/lib/python3.7/dist-packages/jieba/lac_small\n",
            "copying build/lib/jieba/lac_small/nets.py -> /usr/local/lib/python3.7/dist-packages/jieba/lac_small\n",
            "copying build/lib/jieba/lac_small/tag.dic -> /usr/local/lib/python3.7/dist-packages/jieba/lac_small\n",
            "copying build/lib/jieba/lac_small/__init__.py -> /usr/local/lib/python3.7/dist-packages/jieba/lac_small\n",
            "copying build/lib/jieba/lac_small/creator.py -> /usr/local/lib/python3.7/dist-packages/jieba/lac_small\n",
            "copying build/lib/jieba/dict.txt -> /usr/local/lib/python3.7/dist-packages/jieba\n",
            "copying build/lib/jieba/__init__.py -> /usr/local/lib/python3.7/dist-packages/jieba\n",
            "byte-compiling /usr/local/lib/python3.7/dist-packages/jieba/_compat.py to _compat.cpython-37.pyc\n",
            "byte-compiling /usr/local/lib/python3.7/dist-packages/jieba/__main__.py to __main__.cpython-37.pyc\n",
            "byte-compiling /usr/local/lib/python3.7/dist-packages/jieba/finalseg/prob_emit.py to prob_emit.cpython-37.pyc\n",
            "byte-compiling /usr/local/lib/python3.7/dist-packages/jieba/finalseg/prob_start.py to prob_start.cpython-37.pyc\n",
            "byte-compiling /usr/local/lib/python3.7/dist-packages/jieba/finalseg/prob_trans.py to prob_trans.cpython-37.pyc\n",
            "byte-compiling /usr/local/lib/python3.7/dist-packages/jieba/finalseg/__init__.py to __init__.cpython-37.pyc\n",
            "byte-compiling /usr/local/lib/python3.7/dist-packages/jieba/analyse/analyzer.py to analyzer.cpython-37.pyc\n",
            "byte-compiling /usr/local/lib/python3.7/dist-packages/jieba/analyse/__init__.py to __init__.cpython-37.pyc\n",
            "byte-compiling /usr/local/lib/python3.7/dist-packages/jieba/analyse/textrank.py to textrank.cpython-37.pyc\n",
            "byte-compiling /usr/local/lib/python3.7/dist-packages/jieba/analyse/tfidf.py to tfidf.cpython-37.pyc\n",
            "byte-compiling /usr/local/lib/python3.7/dist-packages/jieba/posseg/prob_emit.py to prob_emit.cpython-37.pyc\n",
            "byte-compiling /usr/local/lib/python3.7/dist-packages/jieba/posseg/prob_start.py to prob_start.cpython-37.pyc\n",
            "byte-compiling /usr/local/lib/python3.7/dist-packages/jieba/posseg/prob_trans.py to prob_trans.cpython-37.pyc\n",
            "byte-compiling /usr/local/lib/python3.7/dist-packages/jieba/posseg/__init__.py to __init__.cpython-37.pyc\n",
            "byte-compiling /usr/local/lib/python3.7/dist-packages/jieba/posseg/char_state_tab.py to char_state_tab.cpython-37.pyc\n",
            "byte-compiling /usr/local/lib/python3.7/dist-packages/jieba/posseg/viterbi.py to viterbi.cpython-37.pyc\n",
            "byte-compiling /usr/local/lib/python3.7/dist-packages/jieba/lac_small/reader_small.py to reader_small.cpython-37.pyc\n",
            "byte-compiling /usr/local/lib/python3.7/dist-packages/jieba/lac_small/utils.py to utils.cpython-37.pyc\n",
            "byte-compiling /usr/local/lib/python3.7/dist-packages/jieba/lac_small/predict.py to predict.cpython-37.pyc\n",
            "byte-compiling /usr/local/lib/python3.7/dist-packages/jieba/lac_small/nets.py to nets.cpython-37.pyc\n",
            "byte-compiling /usr/local/lib/python3.7/dist-packages/jieba/lac_small/__init__.py to __init__.cpython-37.pyc\n",
            "byte-compiling /usr/local/lib/python3.7/dist-packages/jieba/lac_small/creator.py to creator.cpython-37.pyc\n",
            "byte-compiling /usr/local/lib/python3.7/dist-packages/jieba/__init__.py to __init__.cpython-37.pyc\n",
            "running install_egg_info\n",
            "Writing /usr/local/lib/python3.7/dist-packages/jieba-0.42.1.egg-info\n"
          ],
          "name": "stdout"
        }
      ]
    },
    {
      "cell_type": "code",
      "metadata": {
        "colab": {
          "base_uri": "https://localhost:8080/"
        },
        "id": "jEj6wWh6jBIu",
        "outputId": "d1bdcf4a-452b-4262-a13a-11c96059a80d"
      },
      "source": [
        "import jieba\n",
        "\n",
        "jieba.enable_paddle()\n",
        "strs = [\"我愛你\",\"我很爛\",\"是不是不服\",\"你愁啥\"]\n",
        "for str in strs:\n",
        "  seg_list = jieba.cut(str,use_paddle=True)\n",
        "  print(\"Panddle Mode:\"+'/'.join(list(seg_list)))"
      ],
      "execution_count": null,
      "outputs": [
        {
          "output_type": "stream",
          "text": [
            "Paddle enabled successfully......\n"
          ],
          "name": "stderr"
        },
        {
          "output_type": "stream",
          "text": [
            "Panddle Mode:我/愛/你\n",
            "Panddle Mode:我/很/爛\n",
            "Panddle Mode:是不是/不服\n",
            "Panddle Mode:你/愁/啥\n"
          ],
          "name": "stdout"
        }
      ]
    },
    {
      "cell_type": "code",
      "metadata": {
        "colab": {
          "base_uri": "https://localhost:8080/"
        },
        "id": "VPnx0W9pk5Lh",
        "outputId": "1255866a-e212-4ab7-e35d-8154928ee3de"
      },
      "source": [
        "strs = [\"今天我真的很累\",\"其實我不是很想吃飯\",\"你是不是覺得我在騙你\"]\n",
        "for test_str in strs:\n",
        "  segment = jieba.cut(test_str)\n",
        "  print(\"FullMoule:\"+\"/\".join(list(segment)))"
      ],
      "execution_count": null,
      "outputs": [
        {
          "output_type": "stream",
          "text": [
            "Building prefix dict from the default dictionary ...\n",
            "Dumping model to file cache /tmp/jieba.cache\n",
            "Loading model cost 1.089 seconds.\n",
            "Prefix dict has been built successfully.\n"
          ],
          "name": "stderr"
        },
        {
          "output_type": "stream",
          "text": [
            "FullMoule:今天/我/真的/很累\n",
            "FullMoule:其實/我/不是/很/想/吃/飯\n",
            "FullMoule:你/是不是/覺得/我/在/騙/你\n"
          ],
          "name": "stdout"
        }
      ]
    },
    {
      "cell_type": "markdown",
      "metadata": {
        "id": "RIamzyenoeXm"
      },
      "source": [
        "# TF-IDF"
      ]
    },
    {
      "cell_type": "code",
      "metadata": {
        "colab": {
          "base_uri": "https://localhost:8080/"
        },
        "id": "43oy51ITolUu",
        "outputId": "07095763-69b1-4000-f514-c0f89a094563"
      },
      "source": [
        "import jieba \n",
        "my_content = ''' \n",
        "今天，有個傻逼去寄東西，說寄個東西很貴。\n",
        "'''\n",
        "\n",
        "content = jieba.cut(my_content,use_paddle = True)\n",
        "print(\"/\".join(list(content)))"
      ],
      "execution_count": null,
      "outputs": [
        {
          "output_type": "stream",
          "text": [
            "Building prefix dict from the default dictionary ...\n",
            "Dumping model to file cache /tmp/jieba.cache\n",
            "Loading model cost 1.016 seconds.\n",
            "Prefix dict has been built successfully.\n"
          ],
          "name": "stderr"
        },
        {
          "output_type": "stream",
          "text": [
            " /\n",
            "/今天/，/有個/傻/逼/去/寄/東西/，/說/寄個/東西/很貴/。/\n",
            "\n"
          ],
          "name": "stdout"
        }
      ]
    },
    {
      "cell_type": "markdown",
      "metadata": {
        "id": "1hGwpAlxz1iP"
      },
      "source": [
        "**Term frequency**"
      ]
    },
    {
      "cell_type": "code",
      "metadata": {
        "colab": {
          "base_uri": "https://localhost:8080/"
        },
        "id": "ztH49soyvobb",
        "outputId": "41de66a8-28da-46f4-c81f-c4759bc38a46"
      },
      "source": [
        "import jieba.analyse\n",
        "topK = 20\n",
        "my_content = '''\n",
        "今天我和同學去了網吧打遊戲，但是同學說他很菜,但我說沒有問題,我教他玩。遊戲開始了，這位同學真的很菜！\n",
        "'''\n",
        "# x,w = jieba.analyse.extract_tags(my_content,withWeight = True)\n",
        "for x,w in jieba.analyse.extract_tags(my_content,withWeight = True):\n",
        "  print('%s %s' % (x, w))\n"
      ],
      "execution_count": null,
      "outputs": [
        {
          "output_type": "stream",
          "text": [
            "同學 2.5617358934785712\n",
            "網吧 0.8539119644928571\n",
            "打遊戲 0.8539119644928571\n",
            "問題 0.8539119644928571\n",
            "我教 0.8539119644928571\n",
            "遊戲 0.8539119644928571\n",
            "開始 0.8539119644928571\n",
            "這位 0.8539119644928571\n",
            "很菜 0.8539119644928571\n",
            "真的 0.40241016459785717\n",
            "今天 0.3565798769164286\n",
            "但是 0.29811635664857145\n"
          ],
          "name": "stdout"
        }
      ]
    },
    {
      "cell_type": "markdown",
      "metadata": {
        "id": "IGwz-fHLz9lS"
      },
      "source": [
        "**Text Rank**"
      ]
    },
    {
      "cell_type": "code",
      "metadata": {
        "colab": {
          "base_uri": "https://localhost:8080/"
        },
        "id": "dr1HWmIsz8-n",
        "outputId": "5b913beb-97bd-45af-8e59-257966930e71"
      },
      "source": [
        "my_content = '''\n",
        "今天我和同學去了網吧打遊戲，但是同學說他很菜,但我說沒有問題,我教他玩。遊戲開始了，這位同學真的很菜！\n",
        "'''\n",
        "tags,weights = jieba.analyse.textrank(my_content,topK=2,withWeight=True)\n",
        "for tag,weight in tags,weights:\n",
        "  print(\"%s %s\" %(tag,weight))\n"
      ],
      "execution_count": null,
      "outputs": [
        {
          "output_type": "stream",
          "text": [
            "開始 1.0\n",
            "沒有 0.9997540318932343\n"
          ],
          "name": "stdout"
        }
      ]
    },
    {
      "cell_type": "code",
      "metadata": {
        "id": "BYRQyqwJ1Swu"
      },
      "source": [
        "!touch customDict.txt"
      ],
      "execution_count": null,
      "outputs": []
    },
    {
      "cell_type": "code",
      "metadata": {
        "id": "Y1jREP7LMVjE",
        "colab": {
          "base_uri": "https://localhost:8080/"
        },
        "outputId": "b21235bf-89d0-4036-ed17-b83c2f09440d"
      },
      "source": [
        "import jieba\n",
        "import jieba.analyse\n",
        "my_content = \"\"\"\n",
        "今天吃了超級炸雞。超級炸雞超好吃的!\n",
        "\"\"\"\n",
        "\n",
        "tags = jieba.cut(my_content,use_paddle=True)\n",
        "print(\"/\".join(tags))"
      ],
      "execution_count": null,
      "outputs": [
        {
          "output_type": "stream",
          "text": [
            "今天/吃/了/超級/炸/雞。/超級/炸/雞超/好吃/的/!\n"
          ],
          "name": "stdout"
        }
      ]
    },
    {
      "cell_type": "code",
      "metadata": {
        "id": "0SX4x1V5M0Y8"
      },
      "source": [
        "#load custom dictionary\n",
        "jieba.load_userdict(\"../customDict.txt\")"
      ],
      "execution_count": null,
      "outputs": []
    },
    {
      "cell_type": "code",
      "metadata": {
        "id": "wDT78GU8Nj4K",
        "colab": {
          "base_uri": "https://localhost:8080/"
        },
        "outputId": "72dee431-e7cc-4318-ae94-8fadd33706dc"
      },
      "source": [
        "#cut again\n",
        "tags = jieba.cut(my_content)\n",
        "print(\"/\".join(tags))"
      ],
      "execution_count": null,
      "outputs": [
        {
          "output_type": "stream",
          "text": [
            "\n",
            "/今天/吃/了/超級炸雞/。/超級炸雞/超/好吃/的/!/\n",
            "\n"
          ],
          "name": "stdout"
        }
      ]
    },
    {
      "cell_type": "code",
      "metadata": {
        "id": "-OcKU12TOTUw",
        "colab": {
          "base_uri": "https://localhost:8080/"
        },
        "outputId": "2f782f80-4dfb-4c18-b3ed-00780bdb8a8b"
      },
      "source": [
        "testContent = \"\"\"\n",
        "地鼠語言是全世界最好的語音，只要相信就是了。希望大家可以一起努力,雖然我只是不想講話，但是也可以找我講話。\n",
        "不要問為什麼，沒有為什麼。只管相信就好，您是全世界最好的!\n",
        "\"\"\"\n",
        "\n",
        "#tags,weights = jieba.analyse.extract_tags(testContent,topK=10,withWeight=True)\n",
        "for tag,weight in jieba.analyse.extract_tags(testContent,topK=10,withWeight=True):\n",
        "  print(tag,weight)"
      ],
      "execution_count": null,
      "outputs": [
        {
          "output_type": "stream",
          "text": [
            "講話 0.824466724337931\n",
            "什麼 0.824466724337931\n",
            "全世界 0.4690673040289655\n",
            "語言 0.4122333621689655\n",
            "語音 0.4122333621689655\n",
            "雖然 0.4122333621689655\n",
            "問為 0.4122333621689655\n",
            "沒有 0.4122333621689655\n",
            "最好 0.3985858213724138\n",
            "相信 0.39043780855655175\n"
          ],
          "name": "stdout"
        }
      ]
    },
    {
      "cell_type": "code",
      "metadata": {
        "id": "cMLJYmsNQYSf",
        "colab": {
          "base_uri": "https://localhost:8080/"
        },
        "outputId": "89f0c157-06c2-47ed-9e36-c7b1b7742f82"
      },
      "source": [
        "!wget https://raw.githubusercontent.com/cjwu/cjwu.github.io/master/courses/nlp/hw1-dataset.txt"
      ],
      "execution_count": null,
      "outputs": [
        {
          "output_type": "stream",
          "text": [
            "--2021-07-21 08:50:38--  https://raw.githubusercontent.com/cjwu/cjwu.github.io/master/courses/nlp/hw1-dataset.txt\n",
            "Resolving raw.githubusercontent.com (raw.githubusercontent.com)... 185.199.108.133, 185.199.109.133, 185.199.110.133, ...\n",
            "Connecting to raw.githubusercontent.com (raw.githubusercontent.com)|185.199.108.133|:443... connected.\n",
            "HTTP request sent, awaiting response... 200 OK\n",
            "Length: 34079536 (32M) [text/plain]\n",
            "Saving to: ‘hw1-dataset.txt’\n",
            "\n",
            "hw1-dataset.txt     100%[===================>]  32.50M   151MB/s    in 0.2s    \n",
            "\n",
            "2021-07-21 08:50:38 (151 MB/s) - ‘hw1-dataset.txt’ saved [34079536/34079536]\n",
            "\n"
          ],
          "name": "stdout"
        }
      ]
    },
    {
      "cell_type": "code",
      "metadata": {
        "id": "Z5GzmiUiQ4N4",
        "colab": {
          "base_uri": "https://localhost:8080/"
        },
        "outputId": "4d67a8d0-36f3-4411-bd68-118d5275c19d"
      },
      "source": [
        "#read file\n",
        "with open(\"hw1-dataset.txt\") as txt:\n",
        "  p = txt.readlines()\n",
        "\n",
        "count = 0\n",
        "for line in p:\n",
        "  count += 1\n",
        "\n",
        "for i in range(0,10):\n",
        "  print(p[i])"
      ],
      "execution_count": null,
      "outputs": [
        {
          "output_type": "stream",
          "text": [
            "為什麼 聖結石 會被酸而 這群人 不會？\t質感 劇本 成員 都差很多好嗎 不要拿腎結石來污辱這群人\n",
            "\n",
            "為什麼慶祝228會被罵可是慶端午不會？\t因為屈原不是台灣人，是楚國人。\n",
            "\n",
            "有沒有戰神阿瑞斯的八卦?\t爵士就是阿瑞斯 男主角最後死了\n",
            "\n",
            "理論與實務最脫節的系\t哪個系不脫節...你問最不脫節的簡單多了...\n",
            "\n",
            "為什麼PTT這麼多人看棒球\t肥宅才看棒球　系壘一堆胖子\n",
            "\n",
            "為什麼達摩祖師傳那麼好看?\t達摩從頭到尾都是被動 (別人問他問題\n",
            "\n",
            "3D小畫家有人會畫嗎？\t3D小當家有人會畫嗎\n",
            "\n",
            "對天龍人來說宜蘭4南部還４東部\t他國事務..\n",
            "\n",
            "機車推出uber或計程機車會怎樣\t載到肥宅會很痛苦\n",
            "\n",
            "台中的龍邦世貿有人跳樓?\t曾經當過全台第一高樓，可惜不到一年\n",
            "\n"
          ],
          "name": "stdout"
        }
      ]
    },
    {
      "cell_type": "code",
      "metadata": {
        "id": "BrTtP5dDR_0W"
      },
      "source": [
        ""
      ],
      "execution_count": null,
      "outputs": []
    }
  ]
}