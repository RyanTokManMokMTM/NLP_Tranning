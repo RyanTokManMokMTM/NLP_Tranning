{
  "nbformat": 4,
  "nbformat_minor": 0,
  "metadata": {
    "colab": {
      "name": "NLP-Trainning.ipynb",
      "provenance": [],
      "collapsed_sections": [],
      "authorship_tag": "ABX9TyMfgXU057oUPzWmia3oz8u/",
      "include_colab_link": true
    },
    "kernelspec": {
      "name": "python3",
      "display_name": "Python 3"
    },
    "language_info": {
      "name": "python"
    }
  },
  "cells": [
    {
      "cell_type": "markdown",
      "metadata": {
        "id": "view-in-github",
        "colab_type": "text"
      },
      "source": [
        "<a href=\"https://colab.research.google.com/github/RyanTokManMokMTM/NLP_Tranning/blob/master/NLP_Trainning.ipynb\" target=\"_parent\"><img src=\"https://colab.research.google.com/assets/colab-badge.svg\" alt=\"Open In Colab\"/></a>"
      ]
    },
    {
      "cell_type": "code",
      "metadata": {
        "colab": {
          "base_uri": "https://localhost:8080/"
        },
        "id": "5foREiXrgkeD",
        "outputId": "22ad89e5-2625-4fe7-cf7d-a8d02ec3e488"
      },
      "source": [
        "!wget https://github.com/fxsjy/jieba.git"
      ],
      "execution_count": null,
      "outputs": [
        {
          "output_type": "stream",
          "text": [
            "--2021-07-20 06:03:46--  https://github.com/fxsjy/jieba.git\n",
            "Resolving github.com (github.com)... 140.82.114.3\n",
            "Connecting to github.com (github.com)|140.82.114.3|:443... connected.\n",
            "HTTP request sent, awaiting response... 301 Moved Permanently\n",
            "Location: https://github.com/fxsjy/jieba [following]\n",
            "--2021-07-20 06:03:46--  https://github.com/fxsjy/jieba\n",
            "Reusing existing connection to github.com:443.\n",
            "HTTP request sent, awaiting response... 200 OK\n",
            "Length: unspecified [text/html]\n",
            "Saving to: ‘jieba.git’\n",
            "\n",
            "jieba.git               [ <=>                ] 276.47K  --.-KB/s    in 0.1s    \n",
            "\n",
            "2021-07-20 06:03:46 (2.64 MB/s) - ‘jieba.git’ saved [283109]\n",
            "\n"
          ],
          "name": "stdout"
        }
      ]
    },
    {
      "cell_type": "code",
      "metadata": {
        "colab": {
          "base_uri": "https://localhost:8080/"
        },
        "id": "06DKyIxwg8fT",
        "outputId": "b4e80bdb-55fb-4a78-fcac-290cc995ebe5"
      },
      "source": [
        "!git clone https://github.com/fxsjy/jieba.git"
      ],
      "execution_count": 3,
      "outputs": [
        {
          "output_type": "stream",
          "text": [
            "Cloning into 'jieba'...\n",
            "remote: Enumerating objects: 2513, done.\u001b[K\n",
            "remote: Total 2513 (delta 0), reused 0 (delta 0), pack-reused 2513\u001b[K\n",
            "Receiving objects: 100% (2513/2513), 54.72 MiB | 22.90 MiB/s, done.\n",
            "Resolving deltas: 100% (1443/1443), done.\n"
          ],
          "name": "stdout"
        }
      ]
    },
    {
      "cell_type": "code",
      "metadata": {
        "id": "m6g0ZbtXhMMD"
      },
      "source": [
        "!cd jieba"
      ],
      "execution_count": null,
      "outputs": []
    },
    {
      "cell_type": "code",
      "metadata": {
        "colab": {
          "base_uri": "https://localhost:8080/"
        },
        "id": "AOI7dUEohQby",
        "outputId": "5ca541f1-c6da-44cb-c013-98b7e2f6baa2"
      },
      "source": [
        "!cd jieba/\n",
        "!ls"
      ],
      "execution_count": null,
      "outputs": [
        {
          "output_type": "stream",
          "text": [
            "jieba  jieba.git  sample_data\n"
          ],
          "name": "stdout"
        }
      ]
    },
    {
      "cell_type": "code",
      "metadata": {
        "colab": {
          "base_uri": "https://localhost:8080/"
        },
        "id": "kasv92VMhXOu",
        "outputId": "35b3da5b-bb42-486b-d614-0609cc3b6cf5"
      },
      "source": [
        "pip install paddlepaddle-tiny==1.6.1"
      ],
      "execution_count": 4,
      "outputs": [
        {
          "output_type": "stream",
          "text": [
            "Collecting paddlepaddle-tiny==1.6.1\n",
            "  Downloading paddlepaddle_tiny-1.6.1-cp37-cp37m-manylinux1_x86_64.whl (39.8 MB)\n",
            "\u001b[K     |████████████████████████████████| 39.8 MB 25 kB/s \n",
            "\u001b[?25hRequirement already satisfied: six in /usr/local/lib/python3.7/dist-packages (from paddlepaddle-tiny==1.6.1) (1.15.0)\n",
            "Collecting objgraph\n",
            "  Downloading objgraph-3.5.0-py2.py3-none-any.whl (17 kB)\n",
            "Requirement already satisfied: decorator in /usr/local/lib/python3.7/dist-packages (from paddlepaddle-tiny==1.6.1) (4.4.2)\n",
            "Requirement already satisfied: protobuf>=3.1.0 in /usr/local/lib/python3.7/dist-packages (from paddlepaddle-tiny==1.6.1) (3.17.3)\n",
            "Requirement already satisfied: requests>=2.0.0 in /usr/local/lib/python3.7/dist-packages (from paddlepaddle-tiny==1.6.1) (2.23.0)\n",
            "Requirement already satisfied: numpy>=1.12 in /usr/local/lib/python3.7/dist-packages (from paddlepaddle-tiny==1.6.1) (1.19.5)\n",
            "Requirement already satisfied: graphviz in /usr/local/lib/python3.7/dist-packages (from paddlepaddle-tiny==1.6.1) (0.10.1)\n",
            "Requirement already satisfied: certifi>=2017.4.17 in /usr/local/lib/python3.7/dist-packages (from requests>=2.0.0->paddlepaddle-tiny==1.6.1) (2021.5.30)\n",
            "Requirement already satisfied: idna<3,>=2.5 in /usr/local/lib/python3.7/dist-packages (from requests>=2.0.0->paddlepaddle-tiny==1.6.1) (2.10)\n",
            "Requirement already satisfied: urllib3!=1.25.0,!=1.25.1,<1.26,>=1.21.1 in /usr/local/lib/python3.7/dist-packages (from requests>=2.0.0->paddlepaddle-tiny==1.6.1) (1.24.3)\n",
            "Requirement already satisfied: chardet<4,>=3.0.2 in /usr/local/lib/python3.7/dist-packages (from requests>=2.0.0->paddlepaddle-tiny==1.6.1) (3.0.4)\n",
            "Installing collected packages: objgraph, paddlepaddle-tiny\n",
            "Successfully installed objgraph-3.5.0 paddlepaddle-tiny-1.6.1\n"
          ],
          "name": "stdout"
        }
      ]
    },
    {
      "cell_type": "code",
      "metadata": {
        "id": "2uDze84ZhqJZ"
      },
      "source": [
        "!cd jieba\n"
      ],
      "execution_count": null,
      "outputs": []
    },
    {
      "cell_type": "code",
      "metadata": {
        "colab": {
          "base_uri": "https://localhost:8080/"
        },
        "id": "EYMQNgNxh4Si",
        "outputId": "8cb063af-80b8-4577-fb87-c3e9b0ecf7b9"
      },
      "source": [
        "%cd jieba/"
      ],
      "execution_count": 9,
      "outputs": [
        {
          "output_type": "stream",
          "text": [
            "/content/jieba\n"
          ],
          "name": "stdout"
        }
      ]
    },
    {
      "cell_type": "code",
      "metadata": {
        "colab": {
          "base_uri": "https://localhost:8080/"
        },
        "id": "W8nHdKZJiC9Y",
        "outputId": "4b020fab-64de-4c5d-9218-3db9d53a5bf2"
      },
      "source": [
        "%ls"
      ],
      "execution_count": 10,
      "outputs": [
        {
          "output_type": "stream",
          "text": [
            "Changelog    \u001b[0m\u001b[01;34mjieba\u001b[0m/   MANIFEST.in  setup.py\n",
            "\u001b[01;34mextra_dict\u001b[0m/  LICENSE  README.md    \u001b[01;34mtest\u001b[0m/\n"
          ],
          "name": "stdout"
        }
      ]
    },
    {
      "cell_type": "code",
      "metadata": {
        "colab": {
          "base_uri": "https://localhost:8080/"
        },
        "id": "WP-JiO6diC3H",
        "outputId": "26b6628b-d6f7-4b21-8903-6f893d013423"
      },
      "source": [
        "!python setup.py install"
      ],
      "execution_count": 11,
      "outputs": [
        {
          "output_type": "stream",
          "text": [
            "running install\n",
            "running build\n",
            "running build_py\n",
            "creating build\n",
            "creating build/lib\n",
            "creating build/lib/jieba\n",
            "copying jieba/_compat.py -> build/lib/jieba\n",
            "copying jieba/__main__.py -> build/lib/jieba\n",
            "copying jieba/__init__.py -> build/lib/jieba\n",
            "copying jieba/dict.txt -> build/lib/jieba\n",
            "creating build/lib/jieba/finalseg\n",
            "copying jieba/finalseg/prob_emit.p -> build/lib/jieba/finalseg\n",
            "copying jieba/finalseg/prob_emit.py -> build/lib/jieba/finalseg\n",
            "copying jieba/finalseg/prob_trans.p -> build/lib/jieba/finalseg\n",
            "copying jieba/finalseg/prob_start.py -> build/lib/jieba/finalseg\n",
            "copying jieba/finalseg/prob_trans.py -> build/lib/jieba/finalseg\n",
            "copying jieba/finalseg/__init__.py -> build/lib/jieba/finalseg\n",
            "copying jieba/finalseg/prob_start.p -> build/lib/jieba/finalseg\n",
            "creating build/lib/jieba/analyse\n",
            "copying jieba/analyse/idf.txt -> build/lib/jieba/analyse\n",
            "copying jieba/analyse/analyzer.py -> build/lib/jieba/analyse\n",
            "copying jieba/analyse/__init__.py -> build/lib/jieba/analyse\n",
            "copying jieba/analyse/textrank.py -> build/lib/jieba/analyse\n",
            "copying jieba/analyse/tfidf.py -> build/lib/jieba/analyse\n",
            "creating build/lib/jieba/posseg\n",
            "copying jieba/posseg/prob_emit.p -> build/lib/jieba/posseg\n",
            "copying jieba/posseg/prob_emit.py -> build/lib/jieba/posseg\n",
            "copying jieba/posseg/prob_trans.p -> build/lib/jieba/posseg\n",
            "copying jieba/posseg/char_state_tab.p -> build/lib/jieba/posseg\n",
            "copying jieba/posseg/prob_start.py -> build/lib/jieba/posseg\n",
            "copying jieba/posseg/prob_trans.py -> build/lib/jieba/posseg\n",
            "copying jieba/posseg/__init__.py -> build/lib/jieba/posseg\n",
            "copying jieba/posseg/char_state_tab.py -> build/lib/jieba/posseg\n",
            "copying jieba/posseg/prob_start.p -> build/lib/jieba/posseg\n",
            "copying jieba/posseg/viterbi.py -> build/lib/jieba/posseg\n",
            "creating build/lib/jieba/lac_small\n",
            "copying jieba/lac_small/reader_small.py -> build/lib/jieba/lac_small\n",
            "copying jieba/lac_small/utils.py -> build/lib/jieba/lac_small\n",
            "copying jieba/lac_small/predict.py -> build/lib/jieba/lac_small\n",
            "copying jieba/lac_small/nets.py -> build/lib/jieba/lac_small\n",
            "copying jieba/lac_small/__init__.py -> build/lib/jieba/lac_small\n",
            "copying jieba/lac_small/creator.py -> build/lib/jieba/lac_small\n",
            "copying jieba/lac_small/word.dic -> build/lib/jieba/lac_small\n",
            "copying jieba/lac_small/tag.dic -> build/lib/jieba/lac_small\n",
            "creating build/lib/jieba/lac_small/model_baseline\n",
            "copying jieba/lac_small/model_baseline/gru_1.b_0 -> build/lib/jieba/lac_small/model_baseline\n",
            "copying jieba/lac_small/model_baseline/gru_1.w_0 -> build/lib/jieba/lac_small/model_baseline\n",
            "copying jieba/lac_small/model_baseline/fc_3.w_0 -> build/lib/jieba/lac_small/model_baseline\n",
            "copying jieba/lac_small/model_baseline/crfw -> build/lib/jieba/lac_small/model_baseline\n",
            "copying jieba/lac_small/model_baseline/fc_1.w_0 -> build/lib/jieba/lac_small/model_baseline\n",
            "copying jieba/lac_small/model_baseline/gru_3.w_0 -> build/lib/jieba/lac_small/model_baseline\n",
            "copying jieba/lac_small/model_baseline/gru_3.b_0 -> build/lib/jieba/lac_small/model_baseline\n",
            "copying jieba/lac_small/model_baseline/fc_2.w_0 -> build/lib/jieba/lac_small/model_baseline\n",
            "copying jieba/lac_small/model_baseline/fc_3.b_0 -> build/lib/jieba/lac_small/model_baseline\n",
            "copying jieba/lac_small/model_baseline/gru_0.w_0 -> build/lib/jieba/lac_small/model_baseline\n",
            "copying jieba/lac_small/model_baseline/gru_0.b_0 -> build/lib/jieba/lac_small/model_baseline\n",
            "copying jieba/lac_small/model_baseline/word_emb -> build/lib/jieba/lac_small/model_baseline\n",
            "copying jieba/lac_small/model_baseline/gru_2.b_0 -> build/lib/jieba/lac_small/model_baseline\n",
            "copying jieba/lac_small/model_baseline/fc_0.w_0 -> build/lib/jieba/lac_small/model_baseline\n",
            "copying jieba/lac_small/model_baseline/fc_1.b_0 -> build/lib/jieba/lac_small/model_baseline\n",
            "copying jieba/lac_small/model_baseline/fc_2.b_0 -> build/lib/jieba/lac_small/model_baseline\n",
            "copying jieba/lac_small/model_baseline/fc_4.w_0 -> build/lib/jieba/lac_small/model_baseline\n",
            "copying jieba/lac_small/model_baseline/fc_0.b_0 -> build/lib/jieba/lac_small/model_baseline\n",
            "copying jieba/lac_small/model_baseline/fc_4.b_0 -> build/lib/jieba/lac_small/model_baseline\n",
            "copying jieba/lac_small/model_baseline/gru_2.w_0 -> build/lib/jieba/lac_small/model_baseline\n",
            "running install_lib\n",
            "copying build/lib/jieba/_compat.py -> /usr/local/lib/python3.7/dist-packages/jieba\n",
            "copying build/lib/jieba/__main__.py -> /usr/local/lib/python3.7/dist-packages/jieba\n",
            "copying build/lib/jieba/finalseg/prob_emit.p -> /usr/local/lib/python3.7/dist-packages/jieba/finalseg\n",
            "copying build/lib/jieba/finalseg/prob_emit.py -> /usr/local/lib/python3.7/dist-packages/jieba/finalseg\n",
            "copying build/lib/jieba/finalseg/prob_trans.p -> /usr/local/lib/python3.7/dist-packages/jieba/finalseg\n",
            "copying build/lib/jieba/finalseg/prob_start.py -> /usr/local/lib/python3.7/dist-packages/jieba/finalseg\n",
            "copying build/lib/jieba/finalseg/prob_trans.py -> /usr/local/lib/python3.7/dist-packages/jieba/finalseg\n",
            "copying build/lib/jieba/finalseg/__init__.py -> /usr/local/lib/python3.7/dist-packages/jieba/finalseg\n",
            "copying build/lib/jieba/finalseg/prob_start.p -> /usr/local/lib/python3.7/dist-packages/jieba/finalseg\n",
            "copying build/lib/jieba/analyse/idf.txt -> /usr/local/lib/python3.7/dist-packages/jieba/analyse\n",
            "copying build/lib/jieba/analyse/analyzer.py -> /usr/local/lib/python3.7/dist-packages/jieba/analyse\n",
            "copying build/lib/jieba/analyse/__init__.py -> /usr/local/lib/python3.7/dist-packages/jieba/analyse\n",
            "copying build/lib/jieba/analyse/textrank.py -> /usr/local/lib/python3.7/dist-packages/jieba/analyse\n",
            "copying build/lib/jieba/analyse/tfidf.py -> /usr/local/lib/python3.7/dist-packages/jieba/analyse\n",
            "copying build/lib/jieba/posseg/prob_emit.p -> /usr/local/lib/python3.7/dist-packages/jieba/posseg\n",
            "copying build/lib/jieba/posseg/prob_emit.py -> /usr/local/lib/python3.7/dist-packages/jieba/posseg\n",
            "copying build/lib/jieba/posseg/prob_trans.p -> /usr/local/lib/python3.7/dist-packages/jieba/posseg\n",
            "copying build/lib/jieba/posseg/char_state_tab.p -> /usr/local/lib/python3.7/dist-packages/jieba/posseg\n",
            "copying build/lib/jieba/posseg/prob_start.py -> /usr/local/lib/python3.7/dist-packages/jieba/posseg\n",
            "copying build/lib/jieba/posseg/prob_trans.py -> /usr/local/lib/python3.7/dist-packages/jieba/posseg\n",
            "copying build/lib/jieba/posseg/__init__.py -> /usr/local/lib/python3.7/dist-packages/jieba/posseg\n",
            "copying build/lib/jieba/posseg/char_state_tab.py -> /usr/local/lib/python3.7/dist-packages/jieba/posseg\n",
            "copying build/lib/jieba/posseg/prob_start.p -> /usr/local/lib/python3.7/dist-packages/jieba/posseg\n",
            "copying build/lib/jieba/posseg/viterbi.py -> /usr/local/lib/python3.7/dist-packages/jieba/posseg\n",
            "copying build/lib/jieba/lac_small/reader_small.py -> /usr/local/lib/python3.7/dist-packages/jieba/lac_small\n",
            "copying build/lib/jieba/lac_small/utils.py -> /usr/local/lib/python3.7/dist-packages/jieba/lac_small\n",
            "copying build/lib/jieba/lac_small/word.dic -> /usr/local/lib/python3.7/dist-packages/jieba/lac_small\n",
            "copying build/lib/jieba/lac_small/model_baseline/gru_1.b_0 -> /usr/local/lib/python3.7/dist-packages/jieba/lac_small/model_baseline\n",
            "copying build/lib/jieba/lac_small/model_baseline/gru_1.w_0 -> /usr/local/lib/python3.7/dist-packages/jieba/lac_small/model_baseline\n",
            "copying build/lib/jieba/lac_small/model_baseline/fc_3.w_0 -> /usr/local/lib/python3.7/dist-packages/jieba/lac_small/model_baseline\n",
            "copying build/lib/jieba/lac_small/model_baseline/crfw -> /usr/local/lib/python3.7/dist-packages/jieba/lac_small/model_baseline\n",
            "copying build/lib/jieba/lac_small/model_baseline/fc_1.w_0 -> /usr/local/lib/python3.7/dist-packages/jieba/lac_small/model_baseline\n",
            "copying build/lib/jieba/lac_small/model_baseline/gru_3.w_0 -> /usr/local/lib/python3.7/dist-packages/jieba/lac_small/model_baseline\n",
            "copying build/lib/jieba/lac_small/model_baseline/gru_3.b_0 -> /usr/local/lib/python3.7/dist-packages/jieba/lac_small/model_baseline\n",
            "copying build/lib/jieba/lac_small/model_baseline/fc_2.w_0 -> /usr/local/lib/python3.7/dist-packages/jieba/lac_small/model_baseline\n",
            "copying build/lib/jieba/lac_small/model_baseline/fc_3.b_0 -> /usr/local/lib/python3.7/dist-packages/jieba/lac_small/model_baseline\n",
            "copying build/lib/jieba/lac_small/model_baseline/gru_0.w_0 -> /usr/local/lib/python3.7/dist-packages/jieba/lac_small/model_baseline\n",
            "copying build/lib/jieba/lac_small/model_baseline/gru_0.b_0 -> /usr/local/lib/python3.7/dist-packages/jieba/lac_small/model_baseline\n",
            "copying build/lib/jieba/lac_small/model_baseline/word_emb -> /usr/local/lib/python3.7/dist-packages/jieba/lac_small/model_baseline\n",
            "copying build/lib/jieba/lac_small/model_baseline/gru_2.b_0 -> /usr/local/lib/python3.7/dist-packages/jieba/lac_small/model_baseline\n",
            "copying build/lib/jieba/lac_small/model_baseline/fc_0.w_0 -> /usr/local/lib/python3.7/dist-packages/jieba/lac_small/model_baseline\n",
            "copying build/lib/jieba/lac_small/model_baseline/fc_1.b_0 -> /usr/local/lib/python3.7/dist-packages/jieba/lac_small/model_baseline\n",
            "copying build/lib/jieba/lac_small/model_baseline/fc_2.b_0 -> /usr/local/lib/python3.7/dist-packages/jieba/lac_small/model_baseline\n",
            "copying build/lib/jieba/lac_small/model_baseline/fc_4.w_0 -> /usr/local/lib/python3.7/dist-packages/jieba/lac_small/model_baseline\n",
            "copying build/lib/jieba/lac_small/model_baseline/fc_0.b_0 -> /usr/local/lib/python3.7/dist-packages/jieba/lac_small/model_baseline\n",
            "copying build/lib/jieba/lac_small/model_baseline/fc_4.b_0 -> /usr/local/lib/python3.7/dist-packages/jieba/lac_small/model_baseline\n",
            "copying build/lib/jieba/lac_small/model_baseline/gru_2.w_0 -> /usr/local/lib/python3.7/dist-packages/jieba/lac_small/model_baseline\n",
            "copying build/lib/jieba/lac_small/predict.py -> /usr/local/lib/python3.7/dist-packages/jieba/lac_small\n",
            "copying build/lib/jieba/lac_small/nets.py -> /usr/local/lib/python3.7/dist-packages/jieba/lac_small\n",
            "copying build/lib/jieba/lac_small/tag.dic -> /usr/local/lib/python3.7/dist-packages/jieba/lac_small\n",
            "copying build/lib/jieba/lac_small/__init__.py -> /usr/local/lib/python3.7/dist-packages/jieba/lac_small\n",
            "copying build/lib/jieba/lac_small/creator.py -> /usr/local/lib/python3.7/dist-packages/jieba/lac_small\n",
            "copying build/lib/jieba/dict.txt -> /usr/local/lib/python3.7/dist-packages/jieba\n",
            "copying build/lib/jieba/__init__.py -> /usr/local/lib/python3.7/dist-packages/jieba\n",
            "byte-compiling /usr/local/lib/python3.7/dist-packages/jieba/_compat.py to _compat.cpython-37.pyc\n",
            "byte-compiling /usr/local/lib/python3.7/dist-packages/jieba/__main__.py to __main__.cpython-37.pyc\n",
            "byte-compiling /usr/local/lib/python3.7/dist-packages/jieba/finalseg/prob_emit.py to prob_emit.cpython-37.pyc\n",
            "byte-compiling /usr/local/lib/python3.7/dist-packages/jieba/finalseg/prob_start.py to prob_start.cpython-37.pyc\n",
            "byte-compiling /usr/local/lib/python3.7/dist-packages/jieba/finalseg/prob_trans.py to prob_trans.cpython-37.pyc\n",
            "byte-compiling /usr/local/lib/python3.7/dist-packages/jieba/finalseg/__init__.py to __init__.cpython-37.pyc\n",
            "byte-compiling /usr/local/lib/python3.7/dist-packages/jieba/analyse/analyzer.py to analyzer.cpython-37.pyc\n",
            "byte-compiling /usr/local/lib/python3.7/dist-packages/jieba/analyse/__init__.py to __init__.cpython-37.pyc\n",
            "byte-compiling /usr/local/lib/python3.7/dist-packages/jieba/analyse/textrank.py to textrank.cpython-37.pyc\n",
            "byte-compiling /usr/local/lib/python3.7/dist-packages/jieba/analyse/tfidf.py to tfidf.cpython-37.pyc\n",
            "byte-compiling /usr/local/lib/python3.7/dist-packages/jieba/posseg/prob_emit.py to prob_emit.cpython-37.pyc\n",
            "byte-compiling /usr/local/lib/python3.7/dist-packages/jieba/posseg/prob_start.py to prob_start.cpython-37.pyc\n",
            "byte-compiling /usr/local/lib/python3.7/dist-packages/jieba/posseg/prob_trans.py to prob_trans.cpython-37.pyc\n",
            "byte-compiling /usr/local/lib/python3.7/dist-packages/jieba/posseg/__init__.py to __init__.cpython-37.pyc\n",
            "byte-compiling /usr/local/lib/python3.7/dist-packages/jieba/posseg/char_state_tab.py to char_state_tab.cpython-37.pyc\n",
            "byte-compiling /usr/local/lib/python3.7/dist-packages/jieba/posseg/viterbi.py to viterbi.cpython-37.pyc\n",
            "byte-compiling /usr/local/lib/python3.7/dist-packages/jieba/lac_small/reader_small.py to reader_small.cpython-37.pyc\n",
            "byte-compiling /usr/local/lib/python3.7/dist-packages/jieba/lac_small/utils.py to utils.cpython-37.pyc\n",
            "byte-compiling /usr/local/lib/python3.7/dist-packages/jieba/lac_small/predict.py to predict.cpython-37.pyc\n",
            "byte-compiling /usr/local/lib/python3.7/dist-packages/jieba/lac_small/nets.py to nets.cpython-37.pyc\n",
            "byte-compiling /usr/local/lib/python3.7/dist-packages/jieba/lac_small/__init__.py to __init__.cpython-37.pyc\n",
            "byte-compiling /usr/local/lib/python3.7/dist-packages/jieba/lac_small/creator.py to creator.cpython-37.pyc\n",
            "byte-compiling /usr/local/lib/python3.7/dist-packages/jieba/__init__.py to __init__.cpython-37.pyc\n",
            "running install_egg_info\n",
            "Writing /usr/local/lib/python3.7/dist-packages/jieba-0.42.1.egg-info\n"
          ],
          "name": "stdout"
        }
      ]
    },
    {
      "cell_type": "code",
      "metadata": {
        "colab": {
          "base_uri": "https://localhost:8080/"
        },
        "id": "jEj6wWh6jBIu",
        "outputId": "17c2cd0b-45ae-46e5-b4f1-beb81c1f8e6c"
      },
      "source": [
        "import jieba\n",
        "\n",
        "jieba.enable_paddle()\n",
        "strs = [\"我愛你\",\"我很爛\",\"是不是不服\",\"你愁啥\"]\n",
        "for str in strs:\n",
        "  seg_list = jieba.cut(str,use_paddle=True)\n",
        "  print(\"Panddle Mode:\"+'/'.join(list(seg_list)))"
      ],
      "execution_count": null,
      "outputs": [
        {
          "output_type": "stream",
          "text": [
            "Building prefix dict from the default dictionary ...\n",
            "Dumping model to file cache /tmp/jieba.cache\n",
            "Loading model cost 1.019 seconds.\n",
            "Prefix dict has been built successfully.\n"
          ],
          "name": "stderr"
        },
        {
          "output_type": "stream",
          "text": [
            "Panddle Mode:我/愛/你\n",
            "Panddle Mode:我/很爛\n",
            "Panddle Mode:是不是/不服\n",
            "Panddle Mode:你/愁/啥\n"
          ],
          "name": "stdout"
        }
      ]
    },
    {
      "cell_type": "code",
      "metadata": {
        "colab": {
          "base_uri": "https://localhost:8080/"
        },
        "id": "VPnx0W9pk5Lh",
        "outputId": "b4895da0-7e0b-4432-f0a2-4a0b72e7f087"
      },
      "source": [
        "strs = [\"今天我真的很累\",\"其實我不是很想吃飯\",\"你是不是覺得我在騙你\"]\n",
        "for test_str in strs:\n",
        "  segment = jieba.cut(test_str)\n",
        "  print(\"FullMoule:\"+\"/\".join(list(segment)))"
      ],
      "execution_count": null,
      "outputs": [
        {
          "output_type": "stream",
          "text": [
            "FullMoule:今天/我/真的/很累\n",
            "FullMoule:其實/我/不是/很/想/吃/飯\n",
            "FullMoule:你/是不是/覺得/我/在/騙/你\n"
          ],
          "name": "stdout"
        }
      ]
    },
    {
      "cell_type": "markdown",
      "metadata": {
        "id": "RIamzyenoeXm"
      },
      "source": [
        "# TF-IDF"
      ]
    },
    {
      "cell_type": "code",
      "metadata": {
        "colab": {
          "base_uri": "https://localhost:8080/"
        },
        "id": "43oy51ITolUu",
        "outputId": "07095763-69b1-4000-f514-c0f89a094563"
      },
      "source": [
        "import jieba \n",
        "my_content = ''' \n",
        "今天，有個傻逼去寄東西，說寄個東西很貴。\n",
        "'''\n",
        "\n",
        "content = jieba.cut(my_content,use_paddle = True)\n",
        "print(\"/\".join(list(content)))"
      ],
      "execution_count": 14,
      "outputs": [
        {
          "output_type": "stream",
          "text": [
            "Building prefix dict from the default dictionary ...\n",
            "Dumping model to file cache /tmp/jieba.cache\n",
            "Loading model cost 1.016 seconds.\n",
            "Prefix dict has been built successfully.\n"
          ],
          "name": "stderr"
        },
        {
          "output_type": "stream",
          "text": [
            " /\n",
            "/今天/，/有個/傻/逼/去/寄/東西/，/說/寄個/東西/很貴/。/\n",
            "\n"
          ],
          "name": "stdout"
        }
      ]
    },
    {
      "cell_type": "markdown",
      "metadata": {
        "id": "1hGwpAlxz1iP"
      },
      "source": [
        "**Term frequency**"
      ]
    },
    {
      "cell_type": "code",
      "metadata": {
        "colab": {
          "base_uri": "https://localhost:8080/"
        },
        "id": "ztH49soyvobb",
        "outputId": "41de66a8-28da-46f4-c81f-c4759bc38a46"
      },
      "source": [
        "import jieba.analyse\n",
        "topK = 20\n",
        "my_content = '''\n",
        "今天我和同學去了網吧打遊戲，但是同學說他很菜,但我說沒有問題,我教他玩。遊戲開始了，這位同學真的很菜！\n",
        "'''\n",
        "# x,w = jieba.analyse.extract_tags(my_content,withWeight = True)\n",
        "for x,w in jieba.analyse.extract_tags(my_content,withWeight = True):\n",
        "  print('%s %s' % (x, w))\n"
      ],
      "execution_count": 48,
      "outputs": [
        {
          "output_type": "stream",
          "text": [
            "同學 2.5617358934785712\n",
            "網吧 0.8539119644928571\n",
            "打遊戲 0.8539119644928571\n",
            "問題 0.8539119644928571\n",
            "我教 0.8539119644928571\n",
            "遊戲 0.8539119644928571\n",
            "開始 0.8539119644928571\n",
            "這位 0.8539119644928571\n",
            "很菜 0.8539119644928571\n",
            "真的 0.40241016459785717\n",
            "今天 0.3565798769164286\n",
            "但是 0.29811635664857145\n"
          ],
          "name": "stdout"
        }
      ]
    },
    {
      "cell_type": "markdown",
      "metadata": {
        "id": "IGwz-fHLz9lS"
      },
      "source": [
        "**Text Rank**"
      ]
    },
    {
      "cell_type": "code",
      "metadata": {
        "colab": {
          "base_uri": "https://localhost:8080/"
        },
        "id": "dr1HWmIsz8-n",
        "outputId": "5b913beb-97bd-45af-8e59-257966930e71"
      },
      "source": [
        "my_content = '''\n",
        "今天我和同學去了網吧打遊戲，但是同學說他很菜,但我說沒有問題,我教他玩。遊戲開始了，這位同學真的很菜！\n",
        "'''\n",
        "tags,weights = jieba.analyse.textrank(my_content,topK=2,withWeight=True)\n",
        "for tag,weight in tags,weights:\n",
        "  print(\"%s %s\" %(tag,weight))\n"
      ],
      "execution_count": 29,
      "outputs": [
        {
          "output_type": "stream",
          "text": [
            "開始 1.0\n",
            "沒有 0.9997540318932343\n"
          ],
          "name": "stdout"
        }
      ]
    },
    {
      "cell_type": "code",
      "metadata": {
        "id": "BYRQyqwJ1Swu"
      },
      "source": [
        "!git remote add "
      ],
      "execution_count": null,
      "outputs": []
    }
  ]
}