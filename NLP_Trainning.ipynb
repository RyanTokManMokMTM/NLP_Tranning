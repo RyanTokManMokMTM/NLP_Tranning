{
  "nbformat": 4,
  "nbformat_minor": 0,
  "metadata": {
    "colab": {
      "name": "NLP-Trainning.ipynb",
      "provenance": [],
      "collapsed_sections": [],
      "toc_visible": true
    },
    "kernelspec": {
      "name": "python3",
      "display_name": "Python 3"
    },
    "language_info": {
      "name": "python"
    }
  },
  "cells": [
    {
      "cell_type": "code",
      "metadata": {
        "colab": {
          "base_uri": "https://localhost:8080/"
        },
        "id": "5foREiXrgkeD",
        "outputId": "22ad89e5-2625-4fe7-cf7d-a8d02ec3e488"
      },
      "source": [
        "!wget https://github.com/fxsjy/jieba.git"
      ],
      "execution_count": null,
      "outputs": [
        {
          "output_type": "stream",
          "text": [
            "--2021-07-20 06:03:46--  https://github.com/fxsjy/jieba.git\n",
            "Resolving github.com (github.com)... 140.82.114.3\n",
            "Connecting to github.com (github.com)|140.82.114.3|:443... connected.\n",
            "HTTP request sent, awaiting response... 301 Moved Permanently\n",
            "Location: https://github.com/fxsjy/jieba [following]\n",
            "--2021-07-20 06:03:46--  https://github.com/fxsjy/jieba\n",
            "Reusing existing connection to github.com:443.\n",
            "HTTP request sent, awaiting response... 200 OK\n",
            "Length: unspecified [text/html]\n",
            "Saving to: ‘jieba.git’\n",
            "\n",
            "jieba.git               [ <=>                ] 276.47K  --.-KB/s    in 0.1s    \n",
            "\n",
            "2021-07-20 06:03:46 (2.64 MB/s) - ‘jieba.git’ saved [283109]\n",
            "\n"
          ],
          "name": "stdout"
        }
      ]
    },
    {
      "cell_type": "code",
      "metadata": {
        "colab": {
          "base_uri": "https://localhost:8080/"
        },
        "id": "06DKyIxwg8fT",
        "outputId": "6cce717b-5b7b-4486-d005-4e75fcea25a0"
      },
      "source": [
        "!git clone https://github.com/fxsjy/jieba.git"
      ],
      "execution_count": null,
      "outputs": [
        {
          "output_type": "stream",
          "text": [
            "Cloning into 'jieba'...\n",
            "remote: Enumerating objects: 2513, done.\u001b[K\n",
            "remote: Total 2513 (delta 0), reused 0 (delta 0), pack-reused 2513\u001b[K\n",
            "Receiving objects: 100% (2513/2513), 54.72 MiB | 22.51 MiB/s, done.\n",
            "Resolving deltas: 100% (1443/1443), done.\n"
          ],
          "name": "stdout"
        }
      ]
    },
    {
      "cell_type": "code",
      "metadata": {
        "id": "m6g0ZbtXhMMD"
      },
      "source": [
        "!cd jieba"
      ],
      "execution_count": null,
      "outputs": []
    },
    {
      "cell_type": "code",
      "metadata": {
        "colab": {
          "base_uri": "https://localhost:8080/"
        },
        "id": "AOI7dUEohQby",
        "outputId": "5ca541f1-c6da-44cb-c013-98b7e2f6baa2"
      },
      "source": [
        "!cd jieba/\n",
        "!ls"
      ],
      "execution_count": null,
      "outputs": [
        {
          "output_type": "stream",
          "text": [
            "jieba  jieba.git  sample_data\n"
          ],
          "name": "stdout"
        }
      ]
    },
    {
      "cell_type": "code",
      "metadata": {
        "colab": {
          "base_uri": "https://localhost:8080/"
        },
        "id": "kasv92VMhXOu",
        "outputId": "996cee5a-dbce-45c5-d3c3-22e61c437c54"
      },
      "source": [
        "pip install paddlepaddle-tiny==1.6.1"
      ],
      "execution_count": null,
      "outputs": [
        {
          "output_type": "stream",
          "text": [
            "Collecting paddlepaddle-tiny==1.6.1\n",
            "  Downloading paddlepaddle_tiny-1.6.1-cp37-cp37m-manylinux1_x86_64.whl (39.8 MB)\n",
            "\u001b[K     |████████████████████████████████| 39.8 MB 26 kB/s \n",
            "\u001b[?25hRequirement already satisfied: requests>=2.0.0 in /usr/local/lib/python3.7/dist-packages (from paddlepaddle-tiny==1.6.1) (2.23.0)\n",
            "Requirement already satisfied: decorator in /usr/local/lib/python3.7/dist-packages (from paddlepaddle-tiny==1.6.1) (4.4.2)\n",
            "Requirement already satisfied: numpy>=1.12 in /usr/local/lib/python3.7/dist-packages (from paddlepaddle-tiny==1.6.1) (1.19.5)\n",
            "Requirement already satisfied: protobuf>=3.1.0 in /usr/local/lib/python3.7/dist-packages (from paddlepaddle-tiny==1.6.1) (3.17.3)\n",
            "Collecting objgraph\n",
            "  Downloading objgraph-3.5.0-py2.py3-none-any.whl (17 kB)\n",
            "Requirement already satisfied: graphviz in /usr/local/lib/python3.7/dist-packages (from paddlepaddle-tiny==1.6.1) (0.10.1)\n",
            "Requirement already satisfied: six in /usr/local/lib/python3.7/dist-packages (from paddlepaddle-tiny==1.6.1) (1.15.0)\n",
            "Requirement already satisfied: idna<3,>=2.5 in /usr/local/lib/python3.7/dist-packages (from requests>=2.0.0->paddlepaddle-tiny==1.6.1) (2.10)\n",
            "Requirement already satisfied: chardet<4,>=3.0.2 in /usr/local/lib/python3.7/dist-packages (from requests>=2.0.0->paddlepaddle-tiny==1.6.1) (3.0.4)\n",
            "Requirement already satisfied: certifi>=2017.4.17 in /usr/local/lib/python3.7/dist-packages (from requests>=2.0.0->paddlepaddle-tiny==1.6.1) (2021.5.30)\n",
            "Requirement already satisfied: urllib3!=1.25.0,!=1.25.1,<1.26,>=1.21.1 in /usr/local/lib/python3.7/dist-packages (from requests>=2.0.0->paddlepaddle-tiny==1.6.1) (1.24.3)\n",
            "Installing collected packages: objgraph, paddlepaddle-tiny\n",
            "Successfully installed objgraph-3.5.0 paddlepaddle-tiny-1.6.1\n"
          ],
          "name": "stdout"
        }
      ]
    },
    {
      "cell_type": "code",
      "metadata": {
        "id": "2uDze84ZhqJZ"
      },
      "source": [
        "!cd jieba\n"
      ],
      "execution_count": null,
      "outputs": []
    },
    {
      "cell_type": "code",
      "metadata": {
        "colab": {
          "base_uri": "https://localhost:8080/"
        },
        "id": "EYMQNgNxh4Si",
        "outputId": "fce6db81-4402-4113-95e3-ed6f622b652e"
      },
      "source": [
        "%cd jieba/"
      ],
      "execution_count": null,
      "outputs": [
        {
          "output_type": "stream",
          "text": [
            "/content/jieba\n"
          ],
          "name": "stdout"
        }
      ]
    },
    {
      "cell_type": "code",
      "metadata": {
        "colab": {
          "base_uri": "https://localhost:8080/"
        },
        "id": "W8nHdKZJiC9Y",
        "outputId": "29728266-0386-4d02-e8df-601d8e8f74f7"
      },
      "source": [
        "%ls"
      ],
      "execution_count": null,
      "outputs": [
        {
          "output_type": "stream",
          "text": [
            "Changelog    \u001b[0m\u001b[01;34mjieba\u001b[0m/   MANIFEST.in  setup.py\n",
            "\u001b[01;34mextra_dict\u001b[0m/  LICENSE  README.md    \u001b[01;34mtest\u001b[0m/\n"
          ],
          "name": "stdout"
        }
      ]
    },
    {
      "cell_type": "code",
      "metadata": {
        "colab": {
          "base_uri": "https://localhost:8080/"
        },
        "id": "WP-JiO6diC3H",
        "outputId": "2f71e2a1-7fa6-41f6-a407-8dfe553df231"
      },
      "source": [
        "!python setup.py install"
      ],
      "execution_count": null,
      "outputs": [
        {
          "output_type": "stream",
          "text": [
            "running install\n",
            "running build\n",
            "running build_py\n",
            "creating build\n",
            "creating build/lib\n",
            "creating build/lib/jieba\n",
            "copying jieba/_compat.py -> build/lib/jieba\n",
            "copying jieba/__main__.py -> build/lib/jieba\n",
            "copying jieba/__init__.py -> build/lib/jieba\n",
            "copying jieba/dict.txt -> build/lib/jieba\n",
            "creating build/lib/jieba/finalseg\n",
            "copying jieba/finalseg/prob_emit.p -> build/lib/jieba/finalseg\n",
            "copying jieba/finalseg/prob_emit.py -> build/lib/jieba/finalseg\n",
            "copying jieba/finalseg/prob_trans.p -> build/lib/jieba/finalseg\n",
            "copying jieba/finalseg/prob_start.py -> build/lib/jieba/finalseg\n",
            "copying jieba/finalseg/prob_trans.py -> build/lib/jieba/finalseg\n",
            "copying jieba/finalseg/__init__.py -> build/lib/jieba/finalseg\n",
            "copying jieba/finalseg/prob_start.p -> build/lib/jieba/finalseg\n",
            "creating build/lib/jieba/analyse\n",
            "copying jieba/analyse/idf.txt -> build/lib/jieba/analyse\n",
            "copying jieba/analyse/analyzer.py -> build/lib/jieba/analyse\n",
            "copying jieba/analyse/__init__.py -> build/lib/jieba/analyse\n",
            "copying jieba/analyse/textrank.py -> build/lib/jieba/analyse\n",
            "copying jieba/analyse/tfidf.py -> build/lib/jieba/analyse\n",
            "creating build/lib/jieba/posseg\n",
            "copying jieba/posseg/prob_emit.p -> build/lib/jieba/posseg\n",
            "copying jieba/posseg/prob_emit.py -> build/lib/jieba/posseg\n",
            "copying jieba/posseg/prob_trans.p -> build/lib/jieba/posseg\n",
            "copying jieba/posseg/char_state_tab.p -> build/lib/jieba/posseg\n",
            "copying jieba/posseg/prob_start.py -> build/lib/jieba/posseg\n",
            "copying jieba/posseg/prob_trans.py -> build/lib/jieba/posseg\n",
            "copying jieba/posseg/__init__.py -> build/lib/jieba/posseg\n",
            "copying jieba/posseg/char_state_tab.py -> build/lib/jieba/posseg\n",
            "copying jieba/posseg/prob_start.p -> build/lib/jieba/posseg\n",
            "copying jieba/posseg/viterbi.py -> build/lib/jieba/posseg\n",
            "creating build/lib/jieba/lac_small\n",
            "copying jieba/lac_small/reader_small.py -> build/lib/jieba/lac_small\n",
            "copying jieba/lac_small/utils.py -> build/lib/jieba/lac_small\n",
            "copying jieba/lac_small/predict.py -> build/lib/jieba/lac_small\n",
            "copying jieba/lac_small/nets.py -> build/lib/jieba/lac_small\n",
            "copying jieba/lac_small/__init__.py -> build/lib/jieba/lac_small\n",
            "copying jieba/lac_small/creator.py -> build/lib/jieba/lac_small\n",
            "copying jieba/lac_small/word.dic -> build/lib/jieba/lac_small\n",
            "copying jieba/lac_small/tag.dic -> build/lib/jieba/lac_small\n",
            "creating build/lib/jieba/lac_small/model_baseline\n",
            "copying jieba/lac_small/model_baseline/gru_1.b_0 -> build/lib/jieba/lac_small/model_baseline\n",
            "copying jieba/lac_small/model_baseline/gru_1.w_0 -> build/lib/jieba/lac_small/model_baseline\n",
            "copying jieba/lac_small/model_baseline/fc_3.w_0 -> build/lib/jieba/lac_small/model_baseline\n",
            "copying jieba/lac_small/model_baseline/crfw -> build/lib/jieba/lac_small/model_baseline\n",
            "copying jieba/lac_small/model_baseline/fc_1.w_0 -> build/lib/jieba/lac_small/model_baseline\n",
            "copying jieba/lac_small/model_baseline/gru_3.w_0 -> build/lib/jieba/lac_small/model_baseline\n",
            "copying jieba/lac_small/model_baseline/gru_3.b_0 -> build/lib/jieba/lac_small/model_baseline\n",
            "copying jieba/lac_small/model_baseline/fc_2.w_0 -> build/lib/jieba/lac_small/model_baseline\n",
            "copying jieba/lac_small/model_baseline/fc_3.b_0 -> build/lib/jieba/lac_small/model_baseline\n",
            "copying jieba/lac_small/model_baseline/gru_0.w_0 -> build/lib/jieba/lac_small/model_baseline\n",
            "copying jieba/lac_small/model_baseline/gru_0.b_0 -> build/lib/jieba/lac_small/model_baseline\n",
            "copying jieba/lac_small/model_baseline/word_emb -> build/lib/jieba/lac_small/model_baseline\n",
            "copying jieba/lac_small/model_baseline/gru_2.b_0 -> build/lib/jieba/lac_small/model_baseline\n",
            "copying jieba/lac_small/model_baseline/fc_0.w_0 -> build/lib/jieba/lac_small/model_baseline\n",
            "copying jieba/lac_small/model_baseline/fc_1.b_0 -> build/lib/jieba/lac_small/model_baseline\n",
            "copying jieba/lac_small/model_baseline/fc_2.b_0 -> build/lib/jieba/lac_small/model_baseline\n",
            "copying jieba/lac_small/model_baseline/fc_4.w_0 -> build/lib/jieba/lac_small/model_baseline\n",
            "copying jieba/lac_small/model_baseline/fc_0.b_0 -> build/lib/jieba/lac_small/model_baseline\n",
            "copying jieba/lac_small/model_baseline/fc_4.b_0 -> build/lib/jieba/lac_small/model_baseline\n",
            "copying jieba/lac_small/model_baseline/gru_2.w_0 -> build/lib/jieba/lac_small/model_baseline\n",
            "running install_lib\n",
            "copying build/lib/jieba/_compat.py -> /usr/local/lib/python3.7/dist-packages/jieba\n",
            "copying build/lib/jieba/__main__.py -> /usr/local/lib/python3.7/dist-packages/jieba\n",
            "copying build/lib/jieba/finalseg/prob_emit.p -> /usr/local/lib/python3.7/dist-packages/jieba/finalseg\n",
            "copying build/lib/jieba/finalseg/prob_emit.py -> /usr/local/lib/python3.7/dist-packages/jieba/finalseg\n",
            "copying build/lib/jieba/finalseg/prob_trans.p -> /usr/local/lib/python3.7/dist-packages/jieba/finalseg\n",
            "copying build/lib/jieba/finalseg/prob_start.py -> /usr/local/lib/python3.7/dist-packages/jieba/finalseg\n",
            "copying build/lib/jieba/finalseg/prob_trans.py -> /usr/local/lib/python3.7/dist-packages/jieba/finalseg\n",
            "copying build/lib/jieba/finalseg/__init__.py -> /usr/local/lib/python3.7/dist-packages/jieba/finalseg\n",
            "copying build/lib/jieba/finalseg/prob_start.p -> /usr/local/lib/python3.7/dist-packages/jieba/finalseg\n",
            "copying build/lib/jieba/analyse/idf.txt -> /usr/local/lib/python3.7/dist-packages/jieba/analyse\n",
            "copying build/lib/jieba/analyse/analyzer.py -> /usr/local/lib/python3.7/dist-packages/jieba/analyse\n",
            "copying build/lib/jieba/analyse/__init__.py -> /usr/local/lib/python3.7/dist-packages/jieba/analyse\n",
            "copying build/lib/jieba/analyse/textrank.py -> /usr/local/lib/python3.7/dist-packages/jieba/analyse\n",
            "copying build/lib/jieba/analyse/tfidf.py -> /usr/local/lib/python3.7/dist-packages/jieba/analyse\n",
            "copying build/lib/jieba/posseg/prob_emit.p -> /usr/local/lib/python3.7/dist-packages/jieba/posseg\n",
            "copying build/lib/jieba/posseg/prob_emit.py -> /usr/local/lib/python3.7/dist-packages/jieba/posseg\n",
            "copying build/lib/jieba/posseg/prob_trans.p -> /usr/local/lib/python3.7/dist-packages/jieba/posseg\n",
            "copying build/lib/jieba/posseg/char_state_tab.p -> /usr/local/lib/python3.7/dist-packages/jieba/posseg\n",
            "copying build/lib/jieba/posseg/prob_start.py -> /usr/local/lib/python3.7/dist-packages/jieba/posseg\n",
            "copying build/lib/jieba/posseg/prob_trans.py -> /usr/local/lib/python3.7/dist-packages/jieba/posseg\n",
            "copying build/lib/jieba/posseg/__init__.py -> /usr/local/lib/python3.7/dist-packages/jieba/posseg\n",
            "copying build/lib/jieba/posseg/char_state_tab.py -> /usr/local/lib/python3.7/dist-packages/jieba/posseg\n",
            "copying build/lib/jieba/posseg/prob_start.p -> /usr/local/lib/python3.7/dist-packages/jieba/posseg\n",
            "copying build/lib/jieba/posseg/viterbi.py -> /usr/local/lib/python3.7/dist-packages/jieba/posseg\n",
            "copying build/lib/jieba/lac_small/reader_small.py -> /usr/local/lib/python3.7/dist-packages/jieba/lac_small\n",
            "copying build/lib/jieba/lac_small/utils.py -> /usr/local/lib/python3.7/dist-packages/jieba/lac_small\n",
            "copying build/lib/jieba/lac_small/word.dic -> /usr/local/lib/python3.7/dist-packages/jieba/lac_small\n",
            "copying build/lib/jieba/lac_small/model_baseline/gru_1.b_0 -> /usr/local/lib/python3.7/dist-packages/jieba/lac_small/model_baseline\n",
            "copying build/lib/jieba/lac_small/model_baseline/gru_1.w_0 -> /usr/local/lib/python3.7/dist-packages/jieba/lac_small/model_baseline\n",
            "copying build/lib/jieba/lac_small/model_baseline/fc_3.w_0 -> /usr/local/lib/python3.7/dist-packages/jieba/lac_small/model_baseline\n",
            "copying build/lib/jieba/lac_small/model_baseline/crfw -> /usr/local/lib/python3.7/dist-packages/jieba/lac_small/model_baseline\n",
            "copying build/lib/jieba/lac_small/model_baseline/fc_1.w_0 -> /usr/local/lib/python3.7/dist-packages/jieba/lac_small/model_baseline\n",
            "copying build/lib/jieba/lac_small/model_baseline/gru_3.w_0 -> /usr/local/lib/python3.7/dist-packages/jieba/lac_small/model_baseline\n",
            "copying build/lib/jieba/lac_small/model_baseline/gru_3.b_0 -> /usr/local/lib/python3.7/dist-packages/jieba/lac_small/model_baseline\n",
            "copying build/lib/jieba/lac_small/model_baseline/fc_2.w_0 -> /usr/local/lib/python3.7/dist-packages/jieba/lac_small/model_baseline\n",
            "copying build/lib/jieba/lac_small/model_baseline/fc_3.b_0 -> /usr/local/lib/python3.7/dist-packages/jieba/lac_small/model_baseline\n",
            "copying build/lib/jieba/lac_small/model_baseline/gru_0.w_0 -> /usr/local/lib/python3.7/dist-packages/jieba/lac_small/model_baseline\n",
            "copying build/lib/jieba/lac_small/model_baseline/gru_0.b_0 -> /usr/local/lib/python3.7/dist-packages/jieba/lac_small/model_baseline\n",
            "copying build/lib/jieba/lac_small/model_baseline/word_emb -> /usr/local/lib/python3.7/dist-packages/jieba/lac_small/model_baseline\n",
            "copying build/lib/jieba/lac_small/model_baseline/gru_2.b_0 -> /usr/local/lib/python3.7/dist-packages/jieba/lac_small/model_baseline\n",
            "copying build/lib/jieba/lac_small/model_baseline/fc_0.w_0 -> /usr/local/lib/python3.7/dist-packages/jieba/lac_small/model_baseline\n",
            "copying build/lib/jieba/lac_small/model_baseline/fc_1.b_0 -> /usr/local/lib/python3.7/dist-packages/jieba/lac_small/model_baseline\n",
            "copying build/lib/jieba/lac_small/model_baseline/fc_2.b_0 -> /usr/local/lib/python3.7/dist-packages/jieba/lac_small/model_baseline\n",
            "copying build/lib/jieba/lac_small/model_baseline/fc_4.w_0 -> /usr/local/lib/python3.7/dist-packages/jieba/lac_small/model_baseline\n",
            "copying build/lib/jieba/lac_small/model_baseline/fc_0.b_0 -> /usr/local/lib/python3.7/dist-packages/jieba/lac_small/model_baseline\n",
            "copying build/lib/jieba/lac_small/model_baseline/fc_4.b_0 -> /usr/local/lib/python3.7/dist-packages/jieba/lac_small/model_baseline\n",
            "copying build/lib/jieba/lac_small/model_baseline/gru_2.w_0 -> /usr/local/lib/python3.7/dist-packages/jieba/lac_small/model_baseline\n",
            "copying build/lib/jieba/lac_small/predict.py -> /usr/local/lib/python3.7/dist-packages/jieba/lac_small\n",
            "copying build/lib/jieba/lac_small/nets.py -> /usr/local/lib/python3.7/dist-packages/jieba/lac_small\n",
            "copying build/lib/jieba/lac_small/tag.dic -> /usr/local/lib/python3.7/dist-packages/jieba/lac_small\n",
            "copying build/lib/jieba/lac_small/__init__.py -> /usr/local/lib/python3.7/dist-packages/jieba/lac_small\n",
            "copying build/lib/jieba/lac_small/creator.py -> /usr/local/lib/python3.7/dist-packages/jieba/lac_small\n",
            "copying build/lib/jieba/dict.txt -> /usr/local/lib/python3.7/dist-packages/jieba\n",
            "copying build/lib/jieba/__init__.py -> /usr/local/lib/python3.7/dist-packages/jieba\n",
            "byte-compiling /usr/local/lib/python3.7/dist-packages/jieba/_compat.py to _compat.cpython-37.pyc\n",
            "byte-compiling /usr/local/lib/python3.7/dist-packages/jieba/__main__.py to __main__.cpython-37.pyc\n",
            "byte-compiling /usr/local/lib/python3.7/dist-packages/jieba/finalseg/prob_emit.py to prob_emit.cpython-37.pyc\n",
            "byte-compiling /usr/local/lib/python3.7/dist-packages/jieba/finalseg/prob_start.py to prob_start.cpython-37.pyc\n",
            "byte-compiling /usr/local/lib/python3.7/dist-packages/jieba/finalseg/prob_trans.py to prob_trans.cpython-37.pyc\n",
            "byte-compiling /usr/local/lib/python3.7/dist-packages/jieba/finalseg/__init__.py to __init__.cpython-37.pyc\n",
            "byte-compiling /usr/local/lib/python3.7/dist-packages/jieba/analyse/analyzer.py to analyzer.cpython-37.pyc\n",
            "byte-compiling /usr/local/lib/python3.7/dist-packages/jieba/analyse/__init__.py to __init__.cpython-37.pyc\n",
            "byte-compiling /usr/local/lib/python3.7/dist-packages/jieba/analyse/textrank.py to textrank.cpython-37.pyc\n",
            "byte-compiling /usr/local/lib/python3.7/dist-packages/jieba/analyse/tfidf.py to tfidf.cpython-37.pyc\n",
            "byte-compiling /usr/local/lib/python3.7/dist-packages/jieba/posseg/prob_emit.py to prob_emit.cpython-37.pyc\n",
            "byte-compiling /usr/local/lib/python3.7/dist-packages/jieba/posseg/prob_start.py to prob_start.cpython-37.pyc\n",
            "byte-compiling /usr/local/lib/python3.7/dist-packages/jieba/posseg/prob_trans.py to prob_trans.cpython-37.pyc\n",
            "byte-compiling /usr/local/lib/python3.7/dist-packages/jieba/posseg/__init__.py to __init__.cpython-37.pyc\n",
            "byte-compiling /usr/local/lib/python3.7/dist-packages/jieba/posseg/char_state_tab.py to char_state_tab.cpython-37.pyc\n",
            "byte-compiling /usr/local/lib/python3.7/dist-packages/jieba/posseg/viterbi.py to viterbi.cpython-37.pyc\n",
            "byte-compiling /usr/local/lib/python3.7/dist-packages/jieba/lac_small/reader_small.py to reader_small.cpython-37.pyc\n",
            "byte-compiling /usr/local/lib/python3.7/dist-packages/jieba/lac_small/utils.py to utils.cpython-37.pyc\n",
            "byte-compiling /usr/local/lib/python3.7/dist-packages/jieba/lac_small/predict.py to predict.cpython-37.pyc\n",
            "byte-compiling /usr/local/lib/python3.7/dist-packages/jieba/lac_small/nets.py to nets.cpython-37.pyc\n",
            "byte-compiling /usr/local/lib/python3.7/dist-packages/jieba/lac_small/__init__.py to __init__.cpython-37.pyc\n",
            "byte-compiling /usr/local/lib/python3.7/dist-packages/jieba/lac_small/creator.py to creator.cpython-37.pyc\n",
            "byte-compiling /usr/local/lib/python3.7/dist-packages/jieba/__init__.py to __init__.cpython-37.pyc\n",
            "running install_egg_info\n",
            "Writing /usr/local/lib/python3.7/dist-packages/jieba-0.42.1.egg-info\n"
          ],
          "name": "stdout"
        }
      ]
    },
    {
      "cell_type": "code",
      "metadata": {
        "colab": {
          "base_uri": "https://localhost:8080/"
        },
        "id": "jEj6wWh6jBIu",
        "outputId": "17c2cd0b-45ae-46e5-b4f1-beb81c1f8e6c"
      },
      "source": [
        "import jieba\n",
        "\n",
        "jieba.enable_paddle()\n",
        "strs = [\"我愛你\",\"我很爛\",\"是不是不服\",\"你愁啥\"]\n",
        "for str in strs:\n",
        "  seg_list = jieba.cut(str,use_paddle=True)\n",
        "  print(\"Panddle Mode:\"+'/'.join(list(seg_list)))"
      ],
      "execution_count": null,
      "outputs": [
        {
          "output_type": "stream",
          "text": [
            "Building prefix dict from the default dictionary ...\n",
            "Dumping model to file cache /tmp/jieba.cache\n",
            "Loading model cost 1.019 seconds.\n",
            "Prefix dict has been built successfully.\n"
          ],
          "name": "stderr"
        },
        {
          "output_type": "stream",
          "text": [
            "Panddle Mode:我/愛/你\n",
            "Panddle Mode:我/很爛\n",
            "Panddle Mode:是不是/不服\n",
            "Panddle Mode:你/愁/啥\n"
          ],
          "name": "stdout"
        }
      ]
    },
    {
      "cell_type": "code",
      "metadata": {
        "colab": {
          "base_uri": "https://localhost:8080/"
        },
        "id": "VPnx0W9pk5Lh",
        "outputId": "b4895da0-7e0b-4432-f0a2-4a0b72e7f087"
      },
      "source": [
        "strs = [\"今天我真的很累\",\"其實我不是很想吃飯\",\"你是不是覺得我在騙你\"]\n",
        "for test_str in strs:\n",
        "  segment = jieba.cut(test_str)\n",
        "  print(\"FullMoule:\"+\"/\".join(list(segment)))"
      ],
      "execution_count": null,
      "outputs": [
        {
          "output_type": "stream",
          "text": [
            "FullMoule:今天/我/真的/很累\n",
            "FullMoule:其實/我/不是/很/想/吃/飯\n",
            "FullMoule:你/是不是/覺得/我/在/騙/你\n"
          ],
          "name": "stdout"
        }
      ]
    },
    {
      "cell_type": "markdown",
      "metadata": {
        "id": "RIamzyenoeXm"
      },
      "source": [
        "# TF-IDF"
      ]
    },
    {
      "cell_type": "code",
      "metadata": {
        "colab": {
          "base_uri": "https://localhost:8080/"
        },
        "id": "43oy51ITolUu",
        "outputId": "9f3f6bbe-24a2-486b-9de5-d3594a18d742"
      },
      "source": [
        "seg = ''' 一位母親，因為女兒愛上一個她不喜歡的男人，母女僵持不下，大吵一架後，女兒乾脆離家。母親又氣又傷心，女兒自小失怙，是她母兼父職辛苦養大。\n",
        "\n",
        "好不容易出落得亭亭玉立，水仙花兒似的，誰知大學尚未畢業，就急著想嫁，偏又是位大她?多歲的離婚男人。母親好言相勸，惡言恫嚇，女兒不動如山。\n",
        "\n",
        "所有的愛變成恨。她恨女兒絕情，為愛盲目。許多前塵往事一一湧上頭。女兒小時乖巧可愛，老愛膩在她身邊嘰嘰咕咕像小雞啄米似的講悄悄話。童言童語，煞是有趣。「媽媽，你絕不能先老，一定要等我長大了一起老！」\n",
        "\n",
        "上中學的女兒也依然貼心懂事，母女倆像朋友一般分享彼此的心事。偶爾問起女兒擇偶的條件，女兒總撒嬌地說：「我才不嫁，我要陪媽媽一輩子，陪到你老得走不動，我就幫你推輪椅！」這些話言猶在耳，女兒怎麼全忘了呢？\n",
        "\n",
        "為了一個不相干的男人，罔顧二年母女情份，實在叫她難以承受。那天，女兒打電話回來說：「媽媽，我要結婚了，希望你來參加婚禮，給我一點祝福！」\n",
        "\n",
        "她餘怒未消，憤而掛上電話。這一掛就是生死永隔。\n",
        "\n",
        "女兒女婿在蜜月途中車禍喪生。殯儀館內，她抱著女兒的遺體放聲大哭：「我好自私啊！我連最後的祝福都不肯給你！」'''\n",
        "\n",
        "t = jieba.cut(seg,use_paddle=True)\n",
        "print(\"/\".join(t))"
      ],
      "execution_count": null,
      "outputs": [
        {
          "output_type": "stream",
          "text": [
            " /一位/母親/，/因為/女兒/愛上/一個/她/不/喜歡/的/男人/，/母女/僵持不下/，/大吵一架/後/，/女兒/乾脆/離家/。/母親/又氣/又/傷心/，/女兒/自小/失/怙/，/是/她/母/兼/父職/辛苦/養大/。/\n",
            "/\n",
            "/好不容易/出/落得/亭亭玉立/，/水仙花/兒/似的/，/誰/知大學/尚未/畢業/，/就/急/著/想/嫁/，/偏/又/是/位大/她/?/多歲/的/離婚/男人/。/母親/好言相/勸/，/惡言/恫嚇/，/女兒/不動/如山/。/\n",
            "/\n",
            "/所有/的/愛變/成恨/。/她/恨/女兒/絕情/，/為/愛/盲目/。/許多/前塵/往事/一一/湧上頭/。/女兒/小時/乖巧/可愛/，/老愛膩/在/她/身邊/嘰嘰/咕咕/像/小雞/啄米/似的/講/悄悄/話/。/童言/童語/，/煞/是/有趣/。/「/媽媽/，/你絕/不能/先老/，/一定/要/等/我長/大/了/一起/老/！/」/\n",
            "/\n",
            "/上/中學/的/女兒/也/依然/貼心/懂事/，/母女/倆/像/朋友/一般/分享/彼此/的/心事/。/偶爾/問起/女兒擇/偶/的/條件/，/女兒/總撒嬌/地/說/：/「/我/才/不/嫁/，/我要/陪/媽媽/一輩子/，/陪/到/你老/得/走/不動/，/我/就/幫/你/推輪椅/！/」/這些/話/言/猶/在/耳/，/女兒/怎麼/全忘/了/呢/？/\n",
            "/\n",
            "/為/了/一個/不相干/的/男人/，/罔顧/二年/母女情/份/，/實在/叫/她/難以/承受/。/那天/，/女兒/打電話/回來/說/：/「/媽媽/，/我要/結婚/了/，/希望/你/來/參加/婚禮/，/給我/一點/祝福/！/」/\n",
            "/\n",
            "/她/餘怒/未消/，/憤而掛/上/電話/。/這一掛/就是/生死/永隔/。/\n",
            "/\n",
            "/女兒/女婿/在/蜜月/途中/車禍/喪生/。/殯儀館/內/，/她/抱/著/女兒/的/遺體/放聲/大哭/：/「/我/好/自私/啊/！/我連/最/後/的/祝福/都/不肯/給你/！/」\n"
          ],
          "name": "stdout"
        }
      ]
    }
  ]
}